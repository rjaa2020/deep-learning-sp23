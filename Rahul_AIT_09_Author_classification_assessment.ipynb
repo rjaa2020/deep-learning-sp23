{
  "nbformat": 4,
  "nbformat_minor": 0,
  "metadata": {
    "kernelspec": {
      "display_name": "Python 3",
      "language": "python",
      "name": "python3"
    },
    "language_info": {
      "codemirror_mode": {
        "name": "ipython",
        "version": 3
      },
      "file_extension": ".py",
      "mimetype": "text/x-python",
      "name": "python",
      "nbconvert_exporter": "python",
      "pygments_lexer": "ipython3",
      "version": "3.6.6"
    },
    "colab": {
      "provenance": [],
      "include_colab_link": true
    }
  },
  "cells": [
    {
      "cell_type": "markdown",
      "metadata": {
        "id": "view-in-github",
        "colab_type": "text"
      },
      "source": [
        "<a href=\"https://colab.research.google.com/github/s-jainr/deep-learning-sp23/blob/main/Rahul_AIT_09_Author_classification_assessment.ipynb\" target=\"_parent\"><img src=\"https://colab.research.google.com/assets/colab-badge.svg\" alt=\"Open In Colab\"/></a>"
      ]
    },
    {
      "cell_type": "markdown",
      "metadata": {
        "id": "_jiGtJu6u9ml"
      },
      "source": [
        "# Copyright\n",
        "\n",
        "<PRE>\n",
        "Copyright (c) 2023 Bálint Gyires-Tóth - All Rights Reserved\n",
        "You may use and modify this code for research and development purpuses.\n",
        "Use this code for educational purposes (self-paced or instructor led) without the permission of the author is prohibited.\n",
        "</PRE>"
      ]
    },
    {
      "cell_type": "markdown",
      "metadata": {
        "id": "oXyFC44jV-PP"
      },
      "source": [
        "# Author classification\n",
        "The task is to train a 1D CNN or an LSTM that is able to  classify text from two authors. The final model should be able to tell about a text with a given length (e.g. 60 characters) who wrote it. \n",
        "\n",
        "Please write the codes according to the following parts:"
      ]
    },
    {
      "cell_type": "markdown",
      "metadata": {
        "id": "jCnLoeGrHXsp"
      },
      "source": [
        "## Python module imports\n",
        "Import all Python modules that you would need during the Assignment."
      ]
    },
    {
      "cell_type": "code",
      "metadata": {
        "id": "7itbFGt3HXVT"
      },
      "source": [
        "from sklearn.model_selection import train_test_split\n",
        "from urllib.request import urlretrieve\n",
        "import numpy as np\n",
        "import seaborn as sns\n",
        "import pandas as pd"
      ],
      "execution_count": 50,
      "outputs": []
    },
    {
      "cell_type": "markdown",
      "metadata": {
        "id": "Hr617tEpHd8R"
      },
      "source": [
        "## Data acquisition\n",
        "Seek a possible dataset, you can use any source, e.g.\n",
        "* http://www.gutenberg.org/\n",
        "* https://www.kaggle.com/datasets\n",
        "* https://paperswithcode.com/datasets\n",
        "* if you would like to learn Hungarian, than e.g. https://mek.oszk.hu/\n",
        "\n",
        "You can download the text by hand (e.g. by copy-pasting some parts into txt files) or with Python. "
      ]
    },
    {
      "cell_type": "code",
      "metadata": {
        "id": "NgkdQxHqHdZB"
      },
      "source": [
        "shakespeare = 'https://www.gutenberg.org/cache/epub/1513/pg1513.txt'\n",
        "fitzgerald = 'https://www.gutenberg.org/cache/epub/64317/pg64317.txt'\n",
        "\n",
        "urlretrieve(shakespeare, 'shakespeare.txt')\n",
        "shakespeare = open(\"shakespeare.txt\", encoding='utf-8').read().lower()\n",
        "\n",
        "urlretrieve(fitzgerald, 'fitzgerald.txt')\n",
        "fitzgerald = open(\"fitzgerald.txt\", encoding='utf-8').read().lower()"
      ],
      "execution_count": 51,
      "outputs": []
    },
    {
      "cell_type": "markdown",
      "source": [
        "## Data analysis\n",
        "Count the number of characters from both authors and display them on a plot (e.g. Seaborn's countplot)."
      ],
      "metadata": {
        "id": "U9Pmq91t3SRD"
      }
    },
    {
      "cell_type": "code",
      "source": [
        "# sns.set_theme(style=\"whitegrid\")\n",
        "sns.countplot(x=[len(shakespeare), len(fitzgerald)], )"
      ],
      "metadata": {
        "id": "uRqGdn4F3Spk",
        "colab": {
          "base_uri": "https://localhost:8080/",
          "height": 447
        },
        "outputId": "5b7288c7-bf79-48ee-80be-96a74e9603fb"
      },
      "execution_count": 52,
      "outputs": [
        {
          "output_type": "execute_result",
          "data": {
            "text/plain": [
              "<Axes: ylabel='count'>"
            ]
          },
          "metadata": {},
          "execution_count": 52
        },
        {
          "output_type": "display_data",
          "data": {
            "text/plain": [
              "<Figure size 640x480 with 1 Axes>"
            ],
            "image/png": "[encoded data removed]"
          },
          "metadata": {}
        }
      ]
    },
    {
      "cell_type": "markdown",
      "metadata": {
        "id": "cHyE_ndGIblJ"
      },
      "source": [
        "## Data loading, labeling and preprocessing\n",
        "Load the data and convert the characters into one-hot encodings. Then load the data into a 3D NumPy array, with a shape of\n",
        "\n",
        "* (batch, sequence_length, alphabet_length)\n",
        "\n",
        "where sequence_length=60, and alphabet_length equals to the number of unique characters in both datasets. The sequences should be cut out from the complete dataset by sliding window. You should add 0 and 1 labels to the sequences, according to the author. \n",
        "\n",
        "Later you may change sequence_length to achieve better results!"
      ]
    },
    {
      "cell_type": "code",
      "source": [
        "chars = sorted(list(set(shakespeare+fitzgerald)))\n",
        "\n",
        "print(\"Unique characters of the books:\", len(chars))\n",
        "# print(chars)\n",
        "\n",
        "char_indices = dict((c, i) for i, c in enumerate(chars))\n",
        "indices_char = dict((i, c) for i, c in enumerate(chars))\n",
        "\n",
        "# print(\"Indices to char dictionary:\", indices_char)\n",
        "char_indices"
      ],
      "metadata": {
        "colab": {
          "base_uri": "https://localhost:8080/"
        },
        "id": "gHCqbrTS_Sy6",
        "outputId": "f265c31f-fd59-4e9d-c954-4bad814a598d"
      },
      "execution_count": 53,
      "outputs": [
        {
          "output_type": "stream",
          "name": "stdout",
          "text": [
            "Unique characters of the books: 72\n"
          ]
        },
        {
          "output_type": "execute_result",
          "data": {
            "text/plain": [
              "{'\\t': 0,\n",
              " '\\n': 1,\n",
              " ' ': 2,\n",
              " '!': 3,\n",
              " '\"': 4,\n",
              " '#': 5,\n",
              " '$': 6,\n",
              " '%': 7,\n",
              " '&': 8,\n",
              " \"'\": 9,\n",
              " '(': 10,\n",
              " ')': 11,\n",
              " '*': 12,\n",
              " ',': 13,\n",
              " '-': 14,\n",
              " '.': 15,\n",
              " '/': 16,\n",
              " '0': 17,\n",
              " '1': 18,\n",
              " '2': 19,\n",
              " '3': 20,\n",
              " '4': 21,\n",
              " '5': 22,\n",
              " '6': 23,\n",
              " '7': 24,\n",
              " '8': 25,\n",
              " '9': 26,\n",
              " ':': 27,\n",
              " ';': 28,\n",
              " '?': 29,\n",
              " '[': 30,\n",
              " ']': 31,\n",
              " '_': 32,\n",
              " 'a': 33,\n",
              " 'b': 34,\n",
              " 'c': 35,\n",
              " 'd': 36,\n",
              " 'e': 37,\n",
              " 'f': 38,\n",
              " 'g': 39,\n",
              " 'h': 40,\n",
              " 'i': 41,\n",
              " 'j': 42,\n",
              " 'k': 43,\n",
              " 'l': 44,\n",
              " 'm': 45,\n",
              " 'n': 46,\n",
              " 'o': 47,\n",
              " 'p': 48,\n",
              " 'q': 49,\n",
              " 'r': 50,\n",
              " 's': 51,\n",
              " 't': 52,\n",
              " 'u': 53,\n",
              " 'v': 54,\n",
              " 'w': 55,\n",
              " 'x': 56,\n",
              " 'y': 57,\n",
              " 'z': 58,\n",
              " 'æ': 59,\n",
              " 'ç': 60,\n",
              " 'é': 61,\n",
              " 'ê': 62,\n",
              " 'ô': 63,\n",
              " '\\u200a': 64,\n",
              " '—': 65,\n",
              " '‘': 66,\n",
              " '’': 67,\n",
              " '“': 68,\n",
              " '”': 69,\n",
              " '…': 70,\n",
              " '\\ufeff': 71}"
            ]
          },
          "metadata": {},
          "execution_count": 53
        }
      ]
    },
    {
      "cell_type": "code",
      "source": [
        "maxlen  = 60\n",
        "step    = 10   # the step size between two \"sentence\" is 10 characters\n",
        "sentences_s = []\n",
        "sentences_f = []\n",
        "\n",
        "for i in range(0, len(shakespeare)-maxlen, step):\n",
        "    sentences_s.append(shakespeare[i:i+maxlen])\n",
        "\n",
        "for i in range(0, len(fitzgerald)-maxlen, step):\n",
        "    sentences_f.append(fitzgerald[i:i+maxlen])\n",
        "\n",
        "sentences = sentences_s + sentences_f\n",
        "\n",
        "sentences_s[:10]"
      ],
      "metadata": {
        "colab": {
          "base_uri": "https://localhost:8080/"
        },
        "id": "_EbHZwYV_l3x",
        "outputId": "6bca3af7-e4e4-4f91-fc5c-fc0257460085"
      },
      "execution_count": 54,
      "outputs": [
        {
          "output_type": "execute_result",
          "data": {
            "text/plain": [
              "['\\ufeffthe project gutenberg ebook of romeo and juliet, by william',\n",
              " 'ct gutenberg ebook of romeo and juliet, by william shakespea',\n",
              " 'rg ebook of romeo and juliet, by william shakespeare\\n\\nthis e',\n",
              " 'f romeo and juliet, by william shakespeare\\n\\nthis ebook is fo',\n",
              " 'd juliet, by william shakespeare\\n\\nthis ebook is for the use ',\n",
              " 'by william shakespeare\\n\\nthis ebook is for the use of anyone ',\n",
              " ' shakespeare\\n\\nthis ebook is for the use of anyone anywhere i',\n",
              " 're\\n\\nthis ebook is for the use of anyone anywhere in the unit',\n",
              " 'book is for the use of anyone anywhere in the united states ',\n",
              " 'r the use of anyone anywhere in the united states and\\nmost o']"
            ]
          },
          "metadata": {},
          "execution_count": 54
        }
      ]
    },
    {
      "cell_type": "code",
      "source": [
        "X_s = np.zeros((len(sentences_s), maxlen, len(chars)))\n",
        "X_f = np.zeros((len(sentences_f), maxlen, len(chars)))\n",
        "\n",
        "for i, sentence in enumerate(sentences_s):\n",
        "    for t, char in enumerate(sentence): \n",
        "        # print(sum(X_s[i, t, :]))\n",
        "        X_s[i,t,char_indices[char]] = 1\n",
        "        # print(i, t, char_indices[char])\n",
        "        # print(sum(X_s[i, t, :]))\n",
        "    # break\n",
        "\n",
        "for i, sentence in enumerate(sentences_f):\n",
        "    for t, char in enumerate(sentence): \n",
        "        X_f[i,t,char_indices[char]] = 1\n",
        "\n",
        "\n",
        "y_s = np.ones(len(sentences_s))\n",
        "y_f = np.zeros(len(sentences_f))\n",
        "\n",
        "print(\"Shape of the input data:\", X_s.shape, X_f.shape)\n",
        "print(\"Shape of the target data:\", y_s.shape, y_f.shape)"
      ],
      "metadata": {
        "colab": {
          "base_uri": "https://localhost:8080/"
        },
        "id": "OqNrEbh4Aaoy",
        "outputId": "71bd8e7d-c651-49e5-e82e-9dc99ee1f085"
      },
      "execution_count": 55,
      "outputs": [
        {
          "output_type": "stream",
          "name": "stdout",
          "text": [
            "Shape of the input data: (16164, 60, 72) (28985, 60, 72)\n",
            "Shape of the target data: (16164,) (28985,)\n"
          ]
        }
      ]
    },
    {
      "cell_type": "code",
      "source": [
        "sentences_s[0], sentences_f[0]"
      ],
      "metadata": {
        "colab": {
          "base_uri": "https://localhost:8080/"
        },
        "id": "s5eBL0vJb2vu",
        "outputId": "a519d95b-fe12-4d18-9b30-b9d165352ea3"
      },
      "execution_count": 56,
      "outputs": [
        {
          "output_type": "execute_result",
          "data": {
            "text/plain": [
              "('\\ufeffthe project gutenberg ebook of romeo and juliet, by william',\n",
              " '\\ufeffthe project gutenberg ebook of the great gatsby, by f. scot')"
            ]
          },
          "metadata": {},
          "execution_count": 56
        }
      ]
    },
    {
      "cell_type": "markdown",
      "metadata": {
        "id": "lL1Mc8ibHnep"
      },
      "source": [
        "## Data splitting\n",
        "Split the data into train, validate and test sets. Make "
      ]
    },
    {
      "cell_type": "code",
      "metadata": {
        "id": "ELyG9XFUHrkB"
      },
      "source": [
        "X_train_s, X_test_s, y_train_s, y_test_s = train_test_split(X_s, y_s, test_size=0.2, random_state=47)\n",
        "X_train_f, X_test_f, y_train_f, y_test_f = train_test_split(X_f, y_f, test_size=0.2, random_state=47)"
      ],
      "execution_count": 57,
      "outputs": []
    },
    {
      "cell_type": "code",
      "source": [
        "X_train_s, X_val_s, y_train_s, y_val_s = train_test_split(X_train_s, y_train_s, test_size=0.2, random_state=47)\n",
        "X_train_f, X_val_f, y_train_f, y_val_f = train_test_split(X_train_f, y_train_f, test_size=0.2, random_state=47)"
      ],
      "metadata": {
        "id": "ab-SeAZeDtKp"
      },
      "execution_count": 58,
      "outputs": []
    },
    {
      "cell_type": "code",
      "source": [
        "X_train = np.append(X_train_s, X_train_f, axis=0)\n",
        "X_test = np.append(X_test_s, X_test_f, axis=0)\n",
        "X_val = np.append(X_val_s, X_val_f, axis=0)\n",
        "\n",
        "y_train = np.append(y_train_s, y_train_f, axis=0)\n",
        "y_test = np.append(y_test_s, y_test_f, axis=0)\n",
        "y_val = np.append(y_val_s, y_val_f, axis=0)"
      ],
      "metadata": {
        "id": "M5tlVpNZEAJh"
      },
      "execution_count": 59,
      "outputs": []
    },
    {
      "cell_type": "markdown",
      "metadata": {
        "id": "hA8U9tr7HrNQ"
      },
      "source": [
        "## Model definition\n",
        "Define a 1D CNN or an LSTM for the task. Compile the model with the correct loss function."
      ]
    },
    {
      "cell_type": "code",
      "source": [
        "from tensorflow.keras.models import Sequential\n",
        "from tensorflow.keras.layers import Dense, Activation, Dropout\n",
        "from tensorflow.keras.layers import LSTM\n",
        "from tensorflow.keras.callbacks import EarlyStopping\n",
        "from tensorflow.keras.optimizers import RMSprop\n"
      ],
      "metadata": {
        "id": "TDoOFMDwGIln"
      },
      "execution_count": 60,
      "outputs": []
    },
    {
      "cell_type": "code",
      "metadata": {
        "id": "BT1V1s4kHuUe"
      },
      "source": [
        "# model = Sequential()\n",
        "# model.add(LSTM(128, input_shape=(X_train.shape[-2], X_train.shape[-1])))\n",
        "# model.add(Dense(1, activation='sigmoid'))"
      ],
      "execution_count": 61,
      "outputs": []
    },
    {
      "cell_type": "code",
      "source": [
        "model = Sequential()\n",
        "model.add(LSTM(128, input_shape=(X_train.shape[-2], X_train.shape[-1])))\n",
        "model.add(Dense(len(chars)))\n",
        "model.add(Activation('softmax'))\n",
        "model.add(Dense(1, activation=\"sigmoid\"))\n",
        "\n",
        "optimizer = RMSprop(learning_rate=0.01)\n",
        "model.compile(loss='binary_crossentropy', optimizer=optimizer)"
      ],
      "metadata": {
        "id": "lt2S15JdVEal"
      },
      "execution_count": 62,
      "outputs": []
    },
    {
      "cell_type": "code",
      "source": [
        "model.summary()"
      ],
      "metadata": {
        "colab": {
          "base_uri": "https://localhost:8080/"
        },
        "id": "rGSo2GMnGQDQ",
        "outputId": "a2e3d356-170e-4588-c38a-7d2869eb3a1a"
      },
      "execution_count": 63,
      "outputs": [
        {
          "output_type": "stream",
          "name": "stdout",
          "text": [
            "Model: \"sequential\"\n",
            "_________________________________________________________________\n",
            " Layer (type)                Output Shape              Param #   \n",
            "=================================================================\n",
            " lstm (LSTM)                 (None, 128)               102912    \n",
            "                                                                 \n",
            " dense (Dense)               (None, 72)                9288      \n",
            "                                                                 \n",
            " activation (Activation)     (None, 72)                0         \n",
            "                                                                 \n",
            " dense_1 (Dense)             (None, 1)                 73        \n",
            "                                                                 \n",
            "=================================================================\n",
            "Total params: 112,273\n",
            "Trainable params: 112,273\n",
            "Non-trainable params: 0\n",
            "_________________________________________________________________\n"
          ]
        }
      ]
    },
    {
      "cell_type": "code",
      "source": [
        "# model.compile(loss='binary_crossentropy', optimizer='adam', metrics=['accuracy'])"
      ],
      "metadata": {
        "id": "rpIJlKOjGUFe"
      },
      "execution_count": 64,
      "outputs": []
    },
    {
      "cell_type": "markdown",
      "metadata": {
        "id": "hWFb-nAMHuAI"
      },
      "source": [
        "## Model training\n",
        "Train the model and apply early stopping."
      ]
    },
    {
      "cell_type": "code",
      "metadata": {
        "id": "dvgKjqp3Hwkp"
      },
      "source": [
        "es = EarlyStopping(patience=5)"
      ],
      "execution_count": 65,
      "outputs": []
    },
    {
      "cell_type": "code",
      "source": [
        "network_history = model.fit(X_train, y_train, \n",
        "                            validation_data=(X_val,y_val),\n",
        "                            batch_size=128,                             \n",
        "                            epochs=1000, \n",
        "                            verbose=1, \n",
        "                            callbacks=[es])"
      ],
      "metadata": {
        "colab": {
          "base_uri": "https://localhost:8080/"
        },
        "id": "0wm2UeJDHBPk",
        "outputId": "c31d1979-883a-46de-c882-52cc0f596fec"
      },
      "execution_count": 66,
      "outputs": [
        {
          "output_type": "stream",
          "name": "stdout",
          "text": [
            "Epoch 1/1000\n",
            "226/226 [==============================] - 53s 223ms/step - loss: 0.6535 - val_loss: 0.6532\n",
            "Epoch 2/1000\n",
            "226/226 [==============================] - 49s 219ms/step - loss: 0.6525 - val_loss: 0.6522\n",
            "Epoch 3/1000\n",
            "226/226 [==============================] - 47s 208ms/step - loss: 0.6521 - val_loss: 0.6510\n",
            "Epoch 4/1000\n",
            "226/226 [==============================] - 49s 218ms/step - loss: 0.6505 - val_loss: 0.6466\n",
            "Epoch 5/1000\n",
            "226/226 [==============================] - 48s 213ms/step - loss: 0.6495 - val_loss: 0.6501\n",
            "Epoch 6/1000\n",
            "226/226 [==============================] - 47s 206ms/step - loss: 0.6480 - val_loss: 0.6520\n",
            "Epoch 7/1000\n",
            "226/226 [==============================] - 48s 212ms/step - loss: 0.6499 - val_loss: 0.6485\n",
            "Epoch 8/1000\n",
            "226/226 [==============================] - 49s 216ms/step - loss: 0.6433 - val_loss: 0.6358\n",
            "Epoch 9/1000\n",
            "226/226 [==============================] - 47s 208ms/step - loss: 0.6204 - val_loss: 0.5788\n",
            "Epoch 10/1000\n",
            "226/226 [==============================] - 49s 216ms/step - loss: 0.6425 - val_loss: 0.6432\n",
            "Epoch 11/1000\n",
            "226/226 [==============================] - 49s 216ms/step - loss: 0.6472 - val_loss: 0.6524\n",
            "Epoch 12/1000\n",
            "226/226 [==============================] - 47s 208ms/step - loss: 0.6525 - val_loss: 0.6519\n",
            "Epoch 13/1000\n",
            "226/226 [==============================] - 48s 214ms/step - loss: 0.6507 - val_loss: 0.6069\n",
            "Epoch 14/1000\n",
            "226/226 [==============================] - 48s 213ms/step - loss: 0.6478 - val_loss: 0.6525\n"
          ]
        }
      ]
    },
    {
      "cell_type": "markdown",
      "metadata": {
        "id": "0omw2XzSHwOo"
      },
      "source": [
        "## Evaluation on test data\n",
        "Evaluate the model on the test data in terms of loss and accuracy."
      ]
    },
    {
      "cell_type": "code",
      "metadata": {
        "id": "4bF3dQA1Hv_R",
        "colab": {
          "base_uri": "https://localhost:8080/"
        },
        "outputId": "096827f5-0a42-4909-bf39-6b1e4def7b49"
      },
      "source": [
        "model.evaluate(X_test, y_test)"
      ],
      "execution_count": 67,
      "outputs": [
        {
          "output_type": "stream",
          "name": "stdout",
          "text": [
            "283/283 [==============================] - 11s 38ms/step - loss: 0.6525\n"
          ]
        },
        {
          "output_type": "execute_result",
          "data": {
            "text/plain": [
              "0.6524667143821716"
            ]
          },
          "metadata": {},
          "execution_count": 67
        }
      ]
    },
    {
      "cell_type": "markdown",
      "metadata": {
        "id": "4Y73Q-h5Hz1r"
      },
      "source": [
        "## Confusion matrix\n",
        "Calculate and display the confusion matrix."
      ]
    },
    {
      "cell_type": "code",
      "source": [
        "from sklearn.metrics import confusion_matrix, classification_report"
      ],
      "metadata": {
        "id": "3oyh26_vYSOs"
      },
      "execution_count": 68,
      "outputs": []
    },
    {
      "cell_type": "code",
      "metadata": {
        "id": "cW8zZi1uJm2B",
        "colab": {
          "base_uri": "https://localhost:8080/"
        },
        "outputId": "ad227d7b-a5a7-4850-f86b-3178ba8521f5"
      },
      "source": [
        "preds = model.predict(X_test)"
      ],
      "execution_count": 69,
      "outputs": [
        {
          "output_type": "stream",
          "name": "stdout",
          "text": [
            "283/283 [==============================] - 12s 39ms/step\n"
          ]
        }
      ]
    },
    {
      "cell_type": "code",
      "source": [
        "preds = np.round(preds)\n",
        "\n",
        "max(preds), min(preds)"
      ],
      "metadata": {
        "colab": {
          "base_uri": "https://localhost:8080/"
        },
        "id": "sxnLLa0KZHZu",
        "outputId": "92ca85da-33aa-46e7-c83c-52e3f54240a6"
      },
      "execution_count": 72,
      "outputs": [
        {
          "output_type": "execute_result",
          "data": {
            "text/plain": [
              "(array([0.], dtype=float32), array([0.], dtype=float32))"
            ]
          },
          "metadata": {},
          "execution_count": 72
        }
      ]
    },
    {
      "cell_type": "code",
      "source": [
        "matrix = confusion_matrix(y_test, preds)\n",
        "sns.heatmap(matrix, annot=True, fmt='d')"
      ],
      "metadata": {
        "colab": {
          "base_uri": "https://localhost:8080/",
          "height": 447
        },
        "id": "bRyq5QuJYJKf",
        "outputId": "2e4465d3-aab8-4bd3-a129-1990162ccd8c"
      },
      "execution_count": 73,
      "outputs": [
        {
          "output_type": "execute_result",
          "data": {
            "text/plain": [
              "<Axes: >"
            ]
          },
          "metadata": {},
          "execution_count": 73
        },
        {
          "output_type": "display_data",
          "data": {
            "text/plain": [
              "<Figure size 640x480 with 2 Axes>"
            ],
            "image/png": "[encoded data removed]"
          },
          "metadata": {}
        }
      ]
    }
  ]
}