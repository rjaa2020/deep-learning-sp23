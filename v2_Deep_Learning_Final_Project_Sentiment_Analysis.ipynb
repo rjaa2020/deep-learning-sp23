{
  "nbformat": 4,
  "nbformat_minor": 0,
  "metadata": {
    "colab": {
      "provenance": [],
      "gpuType": "T4",
      "authorship_tag": "ABX9TyOvICHGOBqBc/5OorAS+M3g",
      "include_colab_link": true
    },
    "kernelspec": {
      "name": "python3",
      "display_name": "Python 3"
    },
    "language_info": {
      "name": "python"
    },
    "accelerator": "GPU",
    "gpuClass": "standard"
  },
  "cells": [
    {
      "cell_type": "markdown",
      "metadata": {
        "id": "view-in-github",
        "colab_type": "text"
      },
      "source": [
        "<a href=\"https://colab.research.google.com/github/s-jainr/deep-learning-sp23/blob/main/v2_Deep_Learning_Final_Project_Sentiment_Analysis.ipynb\" target=\"_parent\"><img src=\"https://colab.research.google.com/assets/colab-badge.svg\" alt=\"Open In Colab\"/></a>"
      ]
    },
    {
      "cell_type": "code",
      "source": [
        "!pip install pytreebank\n",
        "import pytreebank\n",
        "import numpy as np\n",
        "import pandas as pd\n",
        "from collections import defaultdict\n",
        "from sklearn.model_selection import train_test_split\n",
        "\n",
        "# Load the dataset from disk\n",
        "dataset = pytreebank.load_sst(\"/path/to/sentiment/\")\n",
        "\n",
        "train_data = dataset['train']"
      ],
      "metadata": {
        "colab": {
          "base_uri": "https://localhost:8080/"
        },
        "id": "aaKwfo_-xAFN",
        "outputId": "578b67fa-6052-4f73-e972-9faa495eebca"
      },
      "execution_count": 3,
      "outputs": [
        {
          "output_type": "stream",
          "name": "stdout",
          "text": [
            "Looking in indexes: https://pypi.org/simple, https://us-python.pkg.dev/colab-wheels/public/simple/\n",
            "Requirement already satisfied: pytreebank in /usr/local/lib/python3.10/dist-packages (0.2.7)\n"
          ]
        }
      ]
    },
    {
      "cell_type": "code",
      "source": [
        "data = []\n",
        "label_counts = defaultdict(int)\n",
        "MAX_PER_LABEL = 200\n",
        "NUM_CLASSES = 5\n",
        "\n",
        "for tree in train_data:\n",
        "  datapoint = tree.to_labeled_lines()[0]\n",
        "  label = datapoint[0]\n",
        "  \n",
        "  if label_counts[label] < MAX_PER_LABEL:\n",
        "    data.append(datapoint)\n",
        "    label_counts[label] += 1\n",
        "\n",
        "  if len(label_counts) == NUM_CLASSES and min(\n",
        "      label_counts.items(), key=lambda a: a[1])[1] == MAX_PER_LABEL:\n",
        "    break\n",
        "\n",
        "label_counts"
      ],
      "metadata": {
        "colab": {
          "base_uri": "https://localhost:8080/"
        },
        "id": "LKHG6d33tFpy",
        "outputId": "731a4358-c748-4289-e16f-5cb458618f62"
      },
      "execution_count": 4,
      "outputs": [
        {
          "output_type": "execute_result",
          "data": {
            "text/plain": [
              "defaultdict(int, {3: 200, 4: 200, 2: 200, 1: 200, 0: 200})"
            ]
          },
          "metadata": {},
          "execution_count": 4
        }
      ]
    },
    {
      "cell_type": "code",
      "source": [
        "train_data = data\n",
        "\n",
        "# Build the vocabulary\n",
        "vocab = set()\n",
        "for sentence in train_data:\n",
        "    sentence = sentence[1]\n",
        "    words = sentence.lower().split()\n",
        "    for word in words:\n",
        "        vocab.add(word)\n",
        "\n",
        "# Create the word-to-index and index-to-word mappings\n",
        "word_to_index = {}\n",
        "index_to_word = {}\n",
        "for i, word in enumerate(vocab):\n",
        "    word_to_index[word.lower()] = i\n",
        "    index_to_word[i] = word.lower()\n",
        "\n",
        "# Convert the sentences to sequences of word indices\n",
        "train_sequences = []\n",
        "for sentence in train_data:\n",
        "    sentence = sentence[1]\n",
        "    words = sentence.lower().split()\n",
        "    sequence = [word_to_index[word.lower()] for word in words]\n",
        "    train_sequences.append(sequence)\n",
        "\n",
        "# Pad the sequences to a fixed length\n",
        "max_length = max(len(sequence) for sequence in train_sequences)\n",
        "train_sequences = np.array([sequence + [0]*(max_length-len(sequence)) for sequence in train_sequences])\n",
        "\n",
        "# Convert the labels to one-hot vectors\n",
        "train_labels = np.zeros((len(train_data), 5))\n",
        "for i, sentence in enumerate(train_data):\n",
        "    train_labels[i][sentence[0]] = 1"
      ],
      "metadata": {
        "id": "lsEw4UfjoNIS"
      },
      "execution_count": 5,
      "outputs": []
    },
    {
      "cell_type": "code",
      "source": [
        "counts = np.sum(train_labels, axis=0)\n",
        "\n",
        "for i in range(len(counts)):\n",
        "  print(f\"sentences in class {i}: {counts[i]:.0f}\")"
      ],
      "metadata": {
        "colab": {
          "base_uri": "https://localhost:8080/"
        },
        "id": "6Bv3nRy0egwk",
        "outputId": "700a4a2f-5844-4088-ffa2-1100664e3b00"
      },
      "execution_count": 6,
      "outputs": [
        {
          "output_type": "stream",
          "name": "stdout",
          "text": [
            "sentences in class 0: 200\n",
            "sentences in class 1: 200\n",
            "sentences in class 2: 200\n",
            "sentences in class 3: 200\n",
            "sentences in class 4: 200\n"
          ]
        }
      ]
    },
    {
      "cell_type": "code",
      "source": [
        "train_x = []\n",
        "for seq in train_sequences:\n",
        "  matrix = []\n",
        "  for encoding in seq:\n",
        "    seq_hot = np.zeros(len(vocab))\n",
        "    seq_hot[encoding] = 1\n",
        "    matrix.append(seq_hot)\n",
        "  train_x.append(matrix)\n",
        "\n",
        "train_x = np.array(train_x)"
      ],
      "metadata": {
        "id": "rnmBP-EwyCay"
      },
      "execution_count": 7,
      "outputs": []
    },
    {
      "cell_type": "code",
      "source": [
        "train_x, test_x, train_y, test_y = train_test_split(train_x, train_labels, test_size=0.2, random_state=47)"
      ],
      "metadata": {
        "id": "7R45yFiTUodF"
      },
      "execution_count": 8,
      "outputs": []
    },
    {
      "cell_type": "code",
      "source": [
        "# from keras.models import Sequential\n",
        "# from keras.layers import Dense, LSTM\n",
        "\n",
        "# model = Sequential()\n",
        "# model.add(LSTM(128, input_shape=(train_x.shape[-2], train_x.shape[-1])))\n",
        "# model.add(Dense(len(vocab)))\n",
        "# model.add(Dense(5, activation='softmax'))\n",
        "\n",
        "# model.compile(optimizer='adam', loss='categorical_crossentropy', metrics=['accuracy'])\n",
        "\n",
        "# model.summary()"
      ],
      "metadata": {
        "id": "DubM6EkJiTJO"
      },
      "execution_count": 9,
      "outputs": []
    },
    {
      "cell_type": "code",
      "source": [
        "from keras.models import Sequential\n",
        "from keras.layers import Dense, Conv1D, MaxPooling1D, Flatten\n",
        "from tensorflow.keras.callbacks import EarlyStopping\n",
        "\n",
        "model = Sequential()\n",
        "model.add(Conv1D(32, 3, activation='relu', input_shape=(train_x.shape[1], train_x.shape[2])))\n",
        "model.add(MaxPooling1D(2))\n",
        "model.add(Conv1D(64, 3, activation='relu'))\n",
        "model.add(MaxPooling1D(2))\n",
        "model.add(Conv1D(128, 3, activation='relu'))\n",
        "model.add(MaxPooling1D(2))\n",
        "model.add(Flatten())\n",
        "model.add(Dense(512, activation='relu'))\n",
        "model.add(Dense(5, activation='softmax'))\n",
        "\n",
        "model.compile(optimizer='adam', loss='categorical_crossentropy', metrics=['accuracy'])\n",
        "\n",
        "model.summary()"
      ],
      "metadata": {
        "id": "iR-GB_tnKNu8",
        "colab": {
          "base_uri": "https://localhost:8080/"
        },
        "outputId": "5852c6a0-4ced-46b1-dbfb-610f21cbdc0c"
      },
      "execution_count": 10,
      "outputs": [
        {
          "output_type": "stream",
          "name": "stdout",
          "text": [
            "Model: \"sequential\"\n",
            "_________________________________________________________________\n",
            " Layer (type)                Output Shape              Param #   \n",
            "=================================================================\n",
            " conv1d (Conv1D)             (None, 50, 32)            458912    \n",
            "                                                                 \n",
            " max_pooling1d (MaxPooling1D  (None, 25, 32)           0         \n",
            " )                                                               \n",
            "                                                                 \n",
            " conv1d_1 (Conv1D)           (None, 23, 64)            6208      \n",
            "                                                                 \n",
            " max_pooling1d_1 (MaxPooling  (None, 11, 64)           0         \n",
            " 1D)                                                             \n",
            "                                                                 \n",
            " conv1d_2 (Conv1D)           (None, 9, 128)            24704     \n",
            "                                                                 \n",
            " max_pooling1d_2 (MaxPooling  (None, 4, 128)           0         \n",
            " 1D)                                                             \n",
            "                                                                 \n",
            " flatten (Flatten)           (None, 512)               0         \n",
            "                                                                 \n",
            " dense (Dense)               (None, 512)               262656    \n",
            "                                                                 \n",
            " dense_1 (Dense)             (None, 5)                 2565      \n",
            "                                                                 \n",
            "=================================================================\n",
            "Total params: 755,045\n",
            "Trainable params: 755,045\n",
            "Non-trainable params: 0\n",
            "_________________________________________________________________\n"
          ]
        }
      ]
    },
    {
      "cell_type": "code",
      "source": [
        "from tensorflow.keras.callbacks import EarlyStopping\n",
        "\n",
        "es = EarlyStopping(monitor='val_accuracy', patience=10, restore_best_weights=True)\n",
        "\n",
        "network_history = model.fit(train_x, train_y, validation_data=(test_x, test_y), epochs=1000, batch_size=32, callbacks = [es])"
      ],
      "metadata": {
        "colab": {
          "base_uri": "https://localhost:8080/"
        },
        "id": "zAevq2BHR3Jr",
        "outputId": "a516e915-a072-45b0-96cd-36e16d0a65f8"
      },
      "execution_count": 11,
      "outputs": [
        {
          "output_type": "stream",
          "name": "stdout",
          "text": [
            "Epoch 1/1000\n",
            "25/25 [==============================] - 16s 53ms/step - loss: 1.6125 - accuracy: 0.1937 - val_loss: 1.6099 - val_accuracy: 0.1850\n",
            "Epoch 2/1000\n",
            "25/25 [==============================] - 1s 35ms/step - loss: 1.6036 - accuracy: 0.2800 - val_loss: 1.6136 - val_accuracy: 0.1850\n",
            "Epoch 3/1000\n",
            "25/25 [==============================] - 1s 29ms/step - loss: 1.5200 - accuracy: 0.3762 - val_loss: 1.6532 - val_accuracy: 0.2050\n",
            "Epoch 4/1000\n",
            "25/25 [==============================] - 1s 29ms/step - loss: 0.9512 - accuracy: 0.7175 - val_loss: 1.8609 - val_accuracy: 0.2250\n",
            "Epoch 5/1000\n",
            "25/25 [==============================] - 1s 30ms/step - loss: 0.2650 - accuracy: 0.9400 - val_loss: 2.5678 - val_accuracy: 0.2550\n",
            "Epoch 6/1000\n",
            "25/25 [==============================] - 1s 29ms/step - loss: 0.0807 - accuracy: 0.9812 - val_loss: 2.8736 - val_accuracy: 0.1900\n",
            "Epoch 7/1000\n",
            "25/25 [==============================] - 1s 30ms/step - loss: 0.0281 - accuracy: 0.9975 - val_loss: 3.0563 - val_accuracy: 0.2250\n",
            "Epoch 8/1000\n",
            "25/25 [==============================] - 1s 37ms/step - loss: 0.0138 - accuracy: 0.9987 - val_loss: 3.3050 - val_accuracy: 0.1950\n",
            "Epoch 9/1000\n",
            "25/25 [==============================] - 1s 42ms/step - loss: 0.0082 - accuracy: 0.9987 - val_loss: 3.3836 - val_accuracy: 0.2150\n",
            "Epoch 10/1000\n",
            "25/25 [==============================] - 1s 37ms/step - loss: 0.0058 - accuracy: 0.9987 - val_loss: 3.4410 - val_accuracy: 0.2250\n",
            "Epoch 11/1000\n",
            "25/25 [==============================] - 1s 31ms/step - loss: 0.0040 - accuracy: 0.9987 - val_loss: 3.4841 - val_accuracy: 0.2300\n",
            "Epoch 12/1000\n",
            "25/25 [==============================] - 1s 31ms/step - loss: 0.0034 - accuracy: 0.9987 - val_loss: 3.5538 - val_accuracy: 0.2200\n",
            "Epoch 13/1000\n",
            "25/25 [==============================] - 1s 37ms/step - loss: 0.0025 - accuracy: 1.0000 - val_loss: 3.6222 - val_accuracy: 0.2100\n",
            "Epoch 14/1000\n",
            "25/25 [==============================] - 1s 38ms/step - loss: 0.0021 - accuracy: 1.0000 - val_loss: 3.7155 - val_accuracy: 0.2250\n",
            "Epoch 15/1000\n",
            "25/25 [==============================] - 1s 32ms/step - loss: 0.0017 - accuracy: 1.0000 - val_loss: 3.7888 - val_accuracy: 0.2200\n"
          ]
        }
      ]
    },
    {
      "cell_type": "code",
      "source": [
        "model.evaluate(test_x, test_y)"
      ],
      "metadata": {
        "colab": {
          "base_uri": "https://localhost:8080/"
        },
        "id": "p3uSwJgPb4Dy",
        "outputId": "7cc404d7-1de9-4e4c-ad7c-c4d79a87fe4e"
      },
      "execution_count": 12,
      "outputs": [
        {
          "output_type": "stream",
          "name": "stdout",
          "text": [
            "7/7 [==============================] - 0s 19ms/step - loss: 2.5678 - accuracy: 0.2550\n"
          ]
        },
        {
          "output_type": "execute_result",
          "data": {
            "text/plain": [
              "[2.5678460597991943, 0.2549999952316284]"
            ]
          },
          "metadata": {},
          "execution_count": 12
        }
      ]
    },
    {
      "cell_type": "code",
      "source": [
        "from sklearn.metrics import confusion_matrix\n",
        "import seaborn as sns\n",
        "import matplotlib.pyplot as plt\n",
        "\n",
        "# calculate the confusion matrix\n",
        "preds = model.predict(test_x)\n",
        "conf = confusion_matrix(np.argmax(test_y, axis=1), np.argmax(preds, axis=1))\n",
        "\n",
        "# plot the confusion matrix as a heatmap\n",
        "plt.figure(figsize=(7,6))\n",
        "sns.heatmap(conf, annot=True, fmt='d')\n",
        "plt.xlabel('Predicted label')\n",
        "plt.ylabel('True label')\n",
        "plt.show()"
      ],
      "metadata": {
        "colab": {
          "base_uri": "https://localhost:8080/",
          "height": 733
        },
        "id": "VGWO6HcTcDrd",
        "outputId": "a8b35c99-685e-4110-d024-bed631b1b8d2"
      },
      "execution_count": 13,
      "outputs": [
        {
          "output_type": "stream",
          "name": "stdout",
          "text": [
            "7/7 [==============================] - 0s 18ms/step\n"
          ]
        },
        {
          "output_type": "display_data",
          "data": {
            "text/plain": [
              "<Figure size 700x600 with 2 Axes>"
            ],
            "image/png": "[encoded data removed]"
          },
          "metadata": {}
        },
        {
          "output_type": "execute_result",
          "data": {
            "text/plain": [
              "array([2, 2, 0, 2, 4, 2, 2, 2, 2, 4, 2, 2, 2, 4, 4, 2, 4, 4, 2, 2, 2, 2,\n",
              "       3, 2, 0, 0, 2, 2, 2, 3, 4, 2, 2, 1, 0, 2, 4, 2, 0, 2, 2, 2, 4, 2,\n",
              "       2, 4, 2, 1, 2, 2, 2, 2, 4, 2, 2, 2, 3, 4, 4, 2, 2, 2, 2, 4, 4, 4,\n",
              "       1, 0, 2, 4, 4, 4, 2, 0, 2, 2, 2, 2, 2, 4, 0, 2, 0, 4, 2, 4, 2, 4,\n",
              "       2, 4, 2, 2, 2, 2, 4, 2, 2, 2, 2, 3, 4, 1, 4, 0, 4, 4, 0, 2, 2, 2,\n",
              "       4, 4, 2, 2, 1, 4, 4, 3, 4, 2, 2, 2, 1, 2, 2, 2, 0, 2, 0, 1, 0, 2,\n",
              "       2, 2, 2, 0, 2, 4, 4, 2, 2, 4, 2, 1, 2, 2, 4, 4, 2, 4, 2, 4, 4, 2,\n",
              "       0, 2, 2, 2, 4, 0, 2, 2, 4, 3, 2, 2, 0, 2, 2, 4, 2, 2, 4, 2, 2, 1,\n",
              "       2, 4, 4, 4, 2, 4, 4, 2, 4, 2, 2, 0, 1, 2, 0, 4, 2, 4, 2, 2, 2, 2,\n",
              "       4, 4])"
            ]
          },
          "metadata": {},
          "execution_count": 13
        }
      ]
    },
    {
      "cell_type": "code",
      "source": [
        "from tensorflow.keras import backend as K\n",
        "K.clear_session()"
      ],
      "metadata": {
        "id": "xacbOoG0xP-i"
      },
      "execution_count": 14,
      "outputs": []
    }
  ]
}