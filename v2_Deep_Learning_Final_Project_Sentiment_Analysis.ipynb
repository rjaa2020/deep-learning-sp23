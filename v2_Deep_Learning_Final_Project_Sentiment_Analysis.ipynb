{
  "nbformat": 4,
  "nbformat_minor": 0,
  "metadata": {
    "colab": {
      "provenance": [],
      "gpuType": "T4",
      "authorship_tag": "ABX9TyPwV9fA5ZLgTT3CbNPy467s",
      "include_colab_link": true
    },
    "kernelspec": {
      "name": "python3",
      "display_name": "Python 3"
    },
    "language_info": {
      "name": "python"
    },
    "accelerator": "GPU",
    "gpuClass": "standard"
  },
  "cells": [
    {
      "cell_type": "markdown",
      "metadata": {
        "id": "view-in-github",
        "colab_type": "text"
      },
      "source": [
        "<a href=\"https://colab.research.google.com/github/s-jainr/deep-learning-sp23/blob/main/v2_Deep_Learning_Final_Project_Sentiment_Analysis.ipynb\" target=\"_parent\"><img src=\"https://colab.research.google.com/assets/colab-badge.svg\" alt=\"Open In Colab\"/></a>"
      ]
    },
    {
      "cell_type": "code",
      "source": [
        "!pip install pytreebank\n",
        "import pytreebank\n",
        "import numpy as np\n",
        "import pandas as pd\n",
        "from collections import defaultdict\n",
        "from sklearn.model_selection import train_test_split\n",
        "\n",
        "# Load the dataset from disk\n",
        "dataset = pytreebank.load_sst(\"/path/to/sentiment/\")\n",
        "\n",
        "train_data = dataset['train']"
      ],
      "metadata": {
        "colab": {
          "base_uri": "https://localhost:8080/"
        },
        "id": "aaKwfo_-xAFN",
        "outputId": "2375f3a0-bcf8-444e-9cb0-d055678a1792"
      },
      "execution_count": 14,
      "outputs": [
        {
          "output_type": "stream",
          "name": "stdout",
          "text": [
            "Looking in indexes: https://pypi.org/simple, https://us-python.pkg.dev/colab-wheels/public/simple/\n",
            "Requirement already satisfied: pytreebank in /usr/local/lib/python3.10/dist-packages (0.2.7)\n"
          ]
        }
      ]
    },
    {
      "cell_type": "code",
      "source": [
        "data = []\n",
        "label_counts = defaultdict(int)\n",
        "MAX_PER_LABEL = 200\n",
        "NUM_CLASSES = 5\n",
        "\n",
        "for tree in train_data:\n",
        "  datapoint = tree.to_labeled_lines()[0]\n",
        "  label = datapoint[0]\n",
        "  \n",
        "  if label_counts[label] < MAX_PER_LABEL:\n",
        "    data.append(datapoint)\n",
        "    label_counts[label] += 1\n",
        "\n",
        "  if len(label_counts) == NUM_CLASSES and min(\n",
        "      label_counts.items(), key=lambda a: a[1])[1] == MAX_PER_LABEL:\n",
        "    break\n",
        "\n",
        "label_counts"
      ],
      "metadata": {
        "colab": {
          "base_uri": "https://localhost:8080/"
        },
        "id": "LKHG6d33tFpy",
        "outputId": "a1b2895f-0250-4e98-db18-7513fa822260"
      },
      "execution_count": 15,
      "outputs": [
        {
          "output_type": "execute_result",
          "data": {
            "text/plain": [
              "defaultdict(int, {3: 200, 4: 200, 2: 200, 1: 200, 0: 200})"
            ]
          },
          "metadata": {},
          "execution_count": 15
        }
      ]
    },
    {
      "cell_type": "code",
      "source": [
        "train_data = data\n",
        "\n",
        "# Build the vocabulary\n",
        "vocab = set()\n",
        "for sentence in train_data:\n",
        "    sentence = sentence[1]\n",
        "    words = sentence.lower().split()\n",
        "    for word in words:\n",
        "        vocab.add(word)\n",
        "\n",
        "# Create the word-to-index and index-to-word mappings\n",
        "word_to_index = {}\n",
        "index_to_word = {}\n",
        "for i, word in enumerate(vocab):\n",
        "    word_to_index[word.lower()] = i\n",
        "    index_to_word[i] = word.lower()\n",
        "\n",
        "# Convert the sentences to sequences of word indices\n",
        "train_sequences = []\n",
        "for sentence in train_data:\n",
        "    sentence = sentence[1]\n",
        "    words = sentence.lower().split()\n",
        "    sequence = [word_to_index[word.lower()] for word in words]\n",
        "    train_sequences.append(sequence)\n",
        "\n",
        "# Pad the sequences to a fixed length\n",
        "max_length = max(len(sequence) for sequence in train_sequences)\n",
        "train_sequences = np.array([sequence + [0]*(max_length-len(sequence)) for sequence in train_sequences])\n",
        "\n",
        "# Convert the labels to one-hot vectors\n",
        "train_labels = np.zeros((len(train_data), 5))\n",
        "for i, sentence in enumerate(train_data):\n",
        "    train_labels[i][sentence[0]] = 1"
      ],
      "metadata": {
        "id": "lsEw4UfjoNIS"
      },
      "execution_count": 16,
      "outputs": []
    },
    {
      "cell_type": "code",
      "source": [
        "counts = np.sum(train_labels, axis=0)\n",
        "\n",
        "for i in range(len(counts)):\n",
        "  print(f\"sentences in class {i}: {counts[i]:.0f}\")"
      ],
      "metadata": {
        "colab": {
          "base_uri": "https://localhost:8080/"
        },
        "id": "6Bv3nRy0egwk",
        "outputId": "7e44eed7-706b-4b50-cbb1-76facdfe7495"
      },
      "execution_count": 17,
      "outputs": [
        {
          "output_type": "stream",
          "name": "stdout",
          "text": [
            "sentences in class 0: 200\n",
            "sentences in class 1: 200\n",
            "sentences in class 2: 200\n",
            "sentences in class 3: 200\n",
            "sentences in class 4: 200\n"
          ]
        }
      ]
    },
    {
      "cell_type": "code",
      "source": [
        "train_x = []\n",
        "for seq in train_sequences:\n",
        "  matrix = []\n",
        "  for encoding in seq:\n",
        "    seq_hot = np.zeros(len(vocab))\n",
        "    seq_hot[encoding] = 1\n",
        "    matrix.append(seq_hot)\n",
        "  train_x.append(matrix)\n",
        "\n",
        "train_x = np.array(train_x)"
      ],
      "metadata": {
        "id": "rnmBP-EwyCay"
      },
      "execution_count": 18,
      "outputs": []
    },
    {
      "cell_type": "code",
      "source": [
        "train_x, test_x, train_y, test_y = train_test_split(train_x, train_labels, test_size=0.2, random_state=0)"
      ],
      "metadata": {
        "id": "7R45yFiTUodF"
      },
      "execution_count": 19,
      "outputs": []
    },
    {
      "cell_type": "code",
      "source": [
        "# from keras.models import Sequential\n",
        "# from keras.layers import Dense, LSTM\n",
        "\n",
        "# model = Sequential()\n",
        "# model.add(LSTM(128, input_shape=(train_x.shape[-2], train_x.shape[-1])))\n",
        "# model.add(Dense(len(vocab)))\n",
        "# model.add(Dense(5, activation='softmax'))\n",
        "\n",
        "# model.compile(optimizer='adam', loss='categorical_crossentropy', metrics=['accuracy'])\n",
        "\n",
        "# model.summary()"
      ],
      "metadata": {
        "id": "DubM6EkJiTJO"
      },
      "execution_count": 20,
      "outputs": []
    },
    {
      "cell_type": "code",
      "source": [
        "from keras.models import Sequential\n",
        "from keras.layers import Dense, Conv1D, MaxPooling1D, Flatten\n",
        "from tensorflow.keras.callbacks import EarlyStopping\n",
        "\n",
        "model = Sequential()\n",
        "model.add(Conv1D(32, 3, activation='relu', input_shape=(train_x.shape[1], train_x.shape[2])))\n",
        "model.add(MaxPooling1D(2))\n",
        "model.add(Conv1D(64, 3, activation='relu'))\n",
        "model.add(MaxPooling1D(2))\n",
        "model.add(Conv1D(128, 3, activation='relu'))\n",
        "model.add(MaxPooling1D(2))\n",
        "model.add(Flatten())\n",
        "model.add(Dense(512, activation='relu'))\n",
        "model.add(Dense(5, activation='softmax'))\n",
        "\n",
        "model.compile(optimizer='adam', loss='categorical_crossentropy', metrics=['accuracy'])\n",
        "\n",
        "model.summary()"
      ],
      "metadata": {
        "id": "iR-GB_tnKNu8",
        "colab": {
          "base_uri": "https://localhost:8080/"
        },
        "outputId": "41adf027-bb9a-489f-fe56-c217b5b0c9e3"
      },
      "execution_count": 21,
      "outputs": [
        {
          "output_type": "stream",
          "name": "stdout",
          "text": [
            "Model: \"sequential\"\n",
            "_________________________________________________________________\n",
            " Layer (type)                Output Shape              Param #   \n",
            "=================================================================\n",
            " conv1d (Conv1D)             (None, 50, 32)            458912    \n",
            "                                                                 \n",
            " max_pooling1d (MaxPooling1D  (None, 25, 32)           0         \n",
            " )                                                               \n",
            "                                                                 \n",
            " conv1d_1 (Conv1D)           (None, 23, 64)            6208      \n",
            "                                                                 \n",
            " max_pooling1d_1 (MaxPooling  (None, 11, 64)           0         \n",
            " 1D)                                                             \n",
            "                                                                 \n",
            " conv1d_2 (Conv1D)           (None, 9, 128)            24704     \n",
            "                                                                 \n",
            " max_pooling1d_2 (MaxPooling  (None, 4, 128)           0         \n",
            " 1D)                                                             \n",
            "                                                                 \n",
            " flatten (Flatten)           (None, 512)               0         \n",
            "                                                                 \n",
            " dense (Dense)               (None, 512)               262656    \n",
            "                                                                 \n",
            " dense_1 (Dense)             (None, 5)                 2565      \n",
            "                                                                 \n",
            "=================================================================\n",
            "Total params: 755,045\n",
            "Trainable params: 755,045\n",
            "Non-trainable params: 0\n",
            "_________________________________________________________________\n"
          ]
        }
      ]
    },
    {
      "cell_type": "code",
      "source": [
        "from tensorflow.keras.callbacks import EarlyStopping\n",
        "\n",
        "es = EarlyStopping(monitor='val_accuracy', patience=10, restore_best_weights=True)\n",
        "\n",
        "network_history = model.fit(train_x, train_y, validation_data=(test_x, test_y), epochs=1000, batch_size=32, callbacks = [es])"
      ],
      "metadata": {
        "colab": {
          "base_uri": "https://localhost:8080/"
        },
        "id": "zAevq2BHR3Jr",
        "outputId": "76ae98ef-094c-4cea-e79e-0e4041d76d67"
      },
      "execution_count": 22,
      "outputs": [
        {
          "output_type": "stream",
          "name": "stdout",
          "text": [
            "Epoch 1/1000\n",
            "25/25 [==============================] - 4s 87ms/step - loss: 1.6119 - accuracy: 0.1850 - val_loss: 1.6102 - val_accuracy: 0.1800\n",
            "Epoch 2/1000\n",
            "25/25 [==============================] - 1s 47ms/step - loss: 1.6051 - accuracy: 0.2050 - val_loss: 1.6122 - val_accuracy: 0.1700\n",
            "Epoch 3/1000\n",
            "25/25 [==============================] - 1s 45ms/step - loss: 1.5485 - accuracy: 0.3350 - val_loss: 1.6423 - val_accuracy: 0.1850\n",
            "Epoch 4/1000\n",
            "25/25 [==============================] - 1s 38ms/step - loss: 1.0220 - accuracy: 0.7013 - val_loss: 1.8260 - val_accuracy: 0.2350\n",
            "Epoch 5/1000\n",
            "25/25 [==============================] - 1s 45ms/step - loss: 0.2329 - accuracy: 0.9438 - val_loss: 2.2919 - val_accuracy: 0.2350\n",
            "Epoch 6/1000\n",
            "25/25 [==============================] - 1s 47ms/step - loss: 0.0624 - accuracy: 0.9875 - val_loss: 2.9048 - val_accuracy: 0.2800\n",
            "Epoch 7/1000\n",
            "25/25 [==============================] - 1s 42ms/step - loss: 0.0219 - accuracy: 0.9975 - val_loss: 3.3262 - val_accuracy: 0.2550\n",
            "Epoch 8/1000\n",
            "25/25 [==============================] - 1s 49ms/step - loss: 0.0098 - accuracy: 1.0000 - val_loss: 3.2870 - val_accuracy: 0.2550\n",
            "Epoch 9/1000\n",
            "25/25 [==============================] - 1s 46ms/step - loss: 0.0049 - accuracy: 0.9987 - val_loss: 3.2918 - val_accuracy: 0.2500\n",
            "Epoch 10/1000\n",
            "25/25 [==============================] - 1s 43ms/step - loss: 0.0026 - accuracy: 1.0000 - val_loss: 3.2616 - val_accuracy: 0.2300\n",
            "Epoch 11/1000\n",
            "25/25 [==============================] - 1s 53ms/step - loss: 0.0019 - accuracy: 1.0000 - val_loss: 3.5259 - val_accuracy: 0.2600\n",
            "Epoch 12/1000\n",
            "25/25 [==============================] - 1s 51ms/step - loss: 0.0015 - accuracy: 1.0000 - val_loss: 3.3556 - val_accuracy: 0.2450\n",
            "Epoch 13/1000\n",
            "25/25 [==============================] - 1s 55ms/step - loss: 0.0011 - accuracy: 1.0000 - val_loss: 3.4758 - val_accuracy: 0.2450\n",
            "Epoch 14/1000\n",
            "25/25 [==============================] - 1s 45ms/step - loss: 7.7541e-04 - accuracy: 1.0000 - val_loss: 3.4672 - val_accuracy: 0.2500\n",
            "Epoch 15/1000\n",
            "25/25 [==============================] - 1s 36ms/step - loss: 6.2128e-04 - accuracy: 1.0000 - val_loss: 3.5272 - val_accuracy: 0.2400\n",
            "Epoch 16/1000\n",
            "25/25 [==============================] - 1s 45ms/step - loss: 4.8156e-04 - accuracy: 1.0000 - val_loss: 3.5091 - val_accuracy: 0.2400\n"
          ]
        }
      ]
    },
    {
      "cell_type": "code",
      "source": [
        "model.evaluate(test_x, test_y)"
      ],
      "metadata": {
        "colab": {
          "base_uri": "https://localhost:8080/"
        },
        "id": "p3uSwJgPb4Dy",
        "outputId": "cefb0866-f8c2-4dc1-e1f5-461eed81e394"
      },
      "execution_count": 23,
      "outputs": [
        {
          "output_type": "stream",
          "name": "stdout",
          "text": [
            "7/7 [==============================] - 0s 21ms/step - loss: 2.9048 - accuracy: 0.2800\n"
          ]
        },
        {
          "output_type": "execute_result",
          "data": {
            "text/plain": [
              "[2.9047536849975586, 0.2800000011920929]"
            ]
          },
          "metadata": {},
          "execution_count": 23
        }
      ]
    },
    {
      "cell_type": "code",
      "source": [
        "from sklearn.metrics import confusion_matrix\n",
        "import seaborn as sns\n",
        "import matplotlib.pyplot as plt\n",
        "\n",
        "# calculate the confusion matrix\n",
        "preds = model.predict(test_x)\n",
        "conf = confusion_matrix(np.argmax(test_y, axis=1), np.argmax(preds, axis=1))\n",
        "\n",
        "# plot the confusion matrix as a heatmap\n",
        "plt.figure(figsize=(7,6))\n",
        "sns.heatmap(conf, annot=True, fmt='d')\n",
        "plt.xlabel('Predicted label')\n",
        "plt.ylabel('True label')\n",
        "plt.show()"
      ],
      "metadata": {
        "colab": {
          "base_uri": "https://localhost:8080/",
          "height": 564
        },
        "id": "VGWO6HcTcDrd",
        "outputId": "5ce6b5c9-5d3b-4649-bf48-41b26017aa52"
      },
      "execution_count": 24,
      "outputs": [
        {
          "output_type": "stream",
          "name": "stdout",
          "text": [
            "7/7 [==============================] - 0s 17ms/step\n"
          ]
        },
        {
          "output_type": "display_data",
          "data": {
            "text/plain": [
              "<Figure size 700x600 with 2 Axes>"
            ],
            "image/png": "[encoded data removed]"
          },
          "metadata": {}
        }
      ]
    },
    {
      "cell_type": "code",
      "source": [
        "from tensorflow.keras import backend as K\n",
        "K.clear_session()"
      ],
      "metadata": {
        "id": "xacbOoG0xP-i"
      },
      "execution_count": 25,
      "outputs": []
    }
  ]
}