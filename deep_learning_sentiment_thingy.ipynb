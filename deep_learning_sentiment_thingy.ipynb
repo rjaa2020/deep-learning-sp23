{
  "nbformat": 4,
  "nbformat_minor": 0,
  "metadata": {
    "colab": {
      "provenance": [],
      "gpuType": "T4",
      "authorship_tag": "ABX9TyMWIdBH/IdrzGoTuJNLHf1t",
      "include_colab_link": true
    },
    "kernelspec": {
      "name": "python3",
      "display_name": "Python 3"
    },
    "language_info": {
      "name": "python"
    },
    "accelerator": "GPU",
    "gpuClass": "standard"
  },
  "cells": [
    {
      "cell_type": "markdown",
      "metadata": {
        "id": "view-in-github",
        "colab_type": "text"
      },
      "source": [
        "<a href=\"https://colab.research.google.com/github/s-jainr/deep-learning-sp23/blob/main/deep_learning_sentiment_thingy.ipynb\" target=\"_parent\"><img src=\"https://colab.research.google.com/assets/colab-badge.svg\" alt=\"Open In Colab\"/></a>"
      ]
    },
    {
      "cell_type": "code",
      "execution_count": 28,
      "metadata": {
        "colab": {
          "base_uri": "https://localhost:8080/"
        },
        "id": "pHnajAf8-QCB",
        "outputId": "ea37c529-0eb5-43d6-d9fb-30528e2dbf36"
      },
      "outputs": [
        {
          "output_type": "stream",
          "name": "stdout",
          "text": [
            "Looking in indexes: https://pypi.org/simple, https://us-python.pkg.dev/colab-wheels/public/simple/\n",
            "Requirement already satisfied: pytreebank in /usr/local/lib/python3.10/dist-packages (0.2.7)\n"
          ]
        }
      ],
      "source": [
        "from keras.utils import to_categorical, pad_sequences\n",
        "from tensorflow.keras.preprocessing.text import Tokenizer\n",
        "\n",
        "!pip install pytreebank\n",
        "import pytreebank\n",
        "import numpy as np\n",
        "import pandas as pd\n",
        "from collections import defaultdict\n",
        "from sklearn.model_selection import train_test_split\n",
        "\n",
        "# Load the dataset from disk\n",
        "dataset = pytreebank.load_sst(\"/path/to/sentiment/\")\n",
        "\n",
        "train_data = dataset['train']"
      ]
    },
    {
      "cell_type": "code",
      "source": [
        "# Example sentence data and sentiment ratings\n",
        "sentences = []\n",
        "sentiment_ratings = []\n",
        "\n",
        "for tree in train_data:\n",
        "  datapoint = tree.to_labeled_lines()[0]\n",
        "  sentiment_ratings.append(datapoint[0])\n",
        "  sentences.append(datapoint[1])"
      ],
      "metadata": {
        "id": "QOyCynWv-e0f"
      },
      "execution_count": 29,
      "outputs": []
    },
    {
      "cell_type": "code",
      "source": [
        "# Tokenize sentences and convert sentiment ratings to categorical labels\n",
        "tokenizer = Tokenizer()\n",
        "tokenizer.fit_on_texts(sentences)\n",
        "sequences = tokenizer.texts_to_sequences(sentences)\n",
        "word_index = tokenizer.word_index\n",
        "max_sequence_length = max([len(seq) for seq in sequences])\n",
        "data = pad_sequences(sequences, maxlen=max_sequence_length)\n",
        "labels = to_categorical(sentiment_ratings)"
      ],
      "metadata": {
        "id": "-qE0Qd1N-S-g"
      },
      "execution_count": 30,
      "outputs": []
    },
    {
      "cell_type": "code",
      "source": [
        "# Split the data into training and testing sets\n",
        "train_data, test_data, train_labels, test_labels = train_test_split(data, labels, test_size=0.2)"
      ],
      "metadata": {
        "id": "fXfp6V1u-VE4"
      },
      "execution_count": 31,
      "outputs": []
    },
    {
      "cell_type": "code",
      "source": [
        "from keras.models import Sequential\n",
        "from keras.layers import Dense, Embedding, LSTM\n",
        "from tensorflow.keras.callbacks import EarlyStopping\n",
        "\n",
        "embedding_dim = 100\n",
        "\n",
        "# Define the model\n",
        "model = Sequential()\n",
        "model.add(Embedding(len(word_index) + 1, embedding_dim, input_length=max_sequence_length))\n",
        "model.add(LSTM(64, dropout=0.2, recurrent_dropout=0.2))\n",
        "model.add(Dense(5, activation='softmax'))  # 5 classes (0-4)"
      ],
      "metadata": {
        "colab": {
          "base_uri": "https://localhost:8080/"
        },
        "id": "YyFhSZoa-XLn",
        "outputId": "7ad1db29-575e-4c20-9707-5bab458f86a3"
      },
      "execution_count": 32,
      "outputs": [
        {
          "output_type": "stream",
          "name": "stderr",
          "text": [
            "WARNING:tensorflow:Layer lstm_4 will not use cuDNN kernels since it doesn't meet the criteria. It will use a generic GPU kernel as fallback when running on GPU.\n"
          ]
        }
      ]
    },
    {
      "cell_type": "code",
      "source": [
        "# Compile and train the model\n",
        "model.compile(loss='categorical_crossentropy', optimizer='adam', metrics=['accuracy'])\n",
        "\n",
        "es = EarlyStopping(monitor='val_accuracy', patience=5, restore_best_weights=True)\n",
        "\n",
        "model.fit(train_data, train_labels, validation_data = (test_data, test_labels), epochs=1000, batch_size=32, callbacks=[es])"
      ],
      "metadata": {
        "colab": {
          "base_uri": "https://localhost:8080/"
        },
        "id": "VlFRDGK2-aAL",
        "outputId": "110afde6-c83f-45a7-f6b6-0dd9a4a23546"
      },
      "execution_count": 33,
      "outputs": [
        {
          "output_type": "stream",
          "name": "stdout",
          "text": [
            "Epoch 1/10\n",
            "214/214 [==============================] - 67s 297ms/step - loss: 1.5355 - accuracy: 0.3084 - val_loss: 1.4261 - val_accuracy: 0.3663\n",
            "Epoch 2/10\n",
            "214/214 [==============================] - 91s 424ms/step - loss: 1.1985 - accuracy: 0.4947 - val_loss: 1.3562 - val_accuracy: 0.4154\n",
            "Epoch 3/10\n",
            "214/214 [==============================] - 91s 427ms/step - loss: 0.7680 - accuracy: 0.7097 - val_loss: 1.5944 - val_accuracy: 0.3991\n",
            "Epoch 4/10\n",
            "214/214 [==============================] - 82s 385ms/step - loss: 0.4118 - accuracy: 0.8597 - val_loss: 1.9061 - val_accuracy: 0.3821\n",
            "Epoch 5/10\n",
            "214/214 [==============================] - 86s 402ms/step - loss: 0.2270 - accuracy: 0.9266 - val_loss: 2.2568 - val_accuracy: 0.3739\n",
            "Epoch 6/10\n",
            "214/214 [==============================] - 89s 417ms/step - loss: 0.1451 - accuracy: 0.9573 - val_loss: 2.5267 - val_accuracy: 0.3792\n",
            "Epoch 7/10\n",
            "214/214 [==============================] - 85s 398ms/step - loss: 0.0866 - accuracy: 0.9753 - val_loss: 2.8732 - val_accuracy: 0.3563\n",
            "Epoch 8/10\n",
            "214/214 [==============================] - 91s 425ms/step - loss: 0.0689 - accuracy: 0.9810 - val_loss: 3.0341 - val_accuracy: 0.3599\n",
            "Epoch 9/10\n",
            "214/214 [==============================] - 85s 400ms/step - loss: 0.0563 - accuracy: 0.9835 - val_loss: 3.1162 - val_accuracy: 0.3622\n",
            "Epoch 10/10\n",
            "214/214 [==============================] - 88s 411ms/step - loss: 0.0442 - accuracy: 0.9871 - val_loss: 3.3498 - val_accuracy: 0.3616\n"
          ]
        },
        {
          "output_type": "execute_result",
          "data": {
            "text/plain": [
              "<keras.callbacks.History at 0x7fd4283c5030>"
            ]
          },
          "metadata": {},
          "execution_count": 33
        }
      ]
    },
    {
      "cell_type": "code",
      "source": [
        "# Evaluate the model\n",
        "loss, accuracy = model.evaluate(test_data, test_labels)\n",
        "print(\"Test Accuracy: {:.2f}%\".format(accuracy * 100))"
      ],
      "metadata": {
        "colab": {
          "base_uri": "https://localhost:8080/"
        },
        "id": "c91COf4Q-cdr",
        "outputId": "0889676b-56db-424f-ae92-d2c4b5b7b159"
      },
      "execution_count": 34,
      "outputs": [
        {
          "output_type": "stream",
          "name": "stdout",
          "text": [
            "54/54 [==============================] - 1s 24ms/step - loss: 3.3498 - accuracy: 0.3616\n",
            "Test Accuracy: 36.16%\n"
          ]
        }
      ]
    },
    {
      "cell_type": "code",
      "source": [
        "from sklearn.metrics import confusion_matrix\n",
        "import seaborn as sns\n",
        "import matplotlib.pyplot as plt\n",
        "\n",
        "# calculate the confusion matrix\n",
        "preds = model.predict(test_data)\n",
        "conf = confusion_matrix(np.argmax(test_labels, axis=1), np.argmax(preds, axis=1))\n",
        "\n",
        "# plot the confusion matrix as a heatmap\n",
        "plt.figure(figsize=(7,6))\n",
        "sns.heatmap(conf, annot=True, fmt='d')\n",
        "plt.xlabel('Predicted label')\n",
        "plt.ylabel('True label')\n",
        "plt.show()"
      ],
      "metadata": {
        "colab": {
          "base_uri": "https://localhost:8080/",
          "height": 559
        },
        "id": "hV5FMzPLEPi6",
        "outputId": "72fbf5b3-5104-4dec-df87-a18116674119"
      },
      "execution_count": 35,
      "outputs": [
        {
          "output_type": "stream",
          "name": "stdout",
          "text": [
            "54/54 [==============================] - 3s 61ms/step\n"
          ]
        },
        {
          "output_type": "display_data",
          "data": {
            "text/plain": [
              "<Figure size 700x600 with 2 Axes>"
            ],
            "image/png": "[encoded data removed]"
          },
          "metadata": {}
        }
      ]
    }
  ]
}