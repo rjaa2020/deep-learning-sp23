{
  "nbformat": 4,
  "nbformat_minor": 0,
  "metadata": {
    "colab": {
      "provenance": [],
      "gpuType": "T4",
      "authorship_tag": "ABX9TyO9skaIpnEk/YSM4T5ZAkyP",
      "include_colab_link": true
    },
    "kernelspec": {
      "name": "python3",
      "display_name": "Python 3"
    },
    "language_info": {
      "name": "python"
    },
    "accelerator": "GPU",
    "gpuClass": "standard"
  },
  "cells": [
    {
      "cell_type": "markdown",
      "metadata": {
        "id": "view-in-github",
        "colab_type": "text"
      },
      "source": [
        "<a href=\"https://colab.research.google.com/github/s-jainr/deep-learning-sp23/blob/main/deep_learning_sentiment_thingy.ipynb\" target=\"_parent\"><img src=\"https://colab.research.google.com/assets/colab-badge.svg\" alt=\"Open In Colab\"/></a>"
      ]
    },
    {
      "cell_type": "code",
      "execution_count": 51,
      "metadata": {
        "colab": {
          "base_uri": "https://localhost:8080/"
        },
        "id": "pHnajAf8-QCB",
        "outputId": "0a1c5643-2020-4dfc-a188-f047978e2f77"
      },
      "outputs": [
        {
          "output_type": "stream",
          "name": "stdout",
          "text": [
            "Looking in indexes: https://pypi.org/simple, https://us-python.pkg.dev/colab-wheels/public/simple/\n",
            "Requirement already satisfied: pytreebank in /usr/local/lib/python3.10/dist-packages (0.2.7)\n"
          ]
        }
      ],
      "source": [
        "from keras.utils import to_categorical, pad_sequences\n",
        "from tensorflow.keras.preprocessing.text import Tokenizer\n",
        "\n",
        "!pip install pytreebank\n",
        "import pytreebank\n",
        "import numpy as np\n",
        "import pandas as pd\n",
        "from collections import defaultdict\n",
        "from sklearn.model_selection import train_test_split\n",
        "\n",
        "# Load the dataset from disk\n",
        "dataset = pytreebank.load_sst(\"/path/to/sentiment/\")\n",
        "\n",
        "train_data = dataset['train']"
      ]
    },
    {
      "cell_type": "code",
      "source": [
        "# Example sentence data and sentiment ratings\n",
        "sentences = []\n",
        "sentiment_ratings = []\n",
        "\n",
        "for tree in train_data:\n",
        "  datapoint = tree.to_labeled_lines()[0]\n",
        "  sentiment_ratings.append(datapoint[0])\n",
        "  sentences.append(datapoint[1])"
      ],
      "metadata": {
        "id": "QOyCynWv-e0f"
      },
      "execution_count": 52,
      "outputs": []
    },
    {
      "cell_type": "code",
      "source": [
        "# Tokenize sentences and convert sentiment ratings to categorical labels\n",
        "tokenizer = Tokenizer()\n",
        "tokenizer.fit_on_texts(sentences)\n",
        "sequences = tokenizer.texts_to_sequences(sentences)\n",
        "word_index = tokenizer.word_index\n",
        "max_sequence_length = max([len(seq) for seq in sequences])\n",
        "data = pad_sequences(sequences, maxlen=max_sequence_length)\n",
        "labels = to_categorical(sentiment_ratings)"
      ],
      "metadata": {
        "id": "-qE0Qd1N-S-g"
      },
      "execution_count": 53,
      "outputs": []
    },
    {
      "cell_type": "code",
      "source": [
        "# Split the data into training and testing sets\n",
        "train_data, test_data, train_labels, test_labels = train_test_split(data, labels, test_size=0.2)\n",
        "test_data, val_data, test_labels, val_labels = train_test_split(test_data, test_labels, test_size=0.2)"
      ],
      "metadata": {
        "id": "fXfp6V1u-VE4"
      },
      "execution_count": 54,
      "outputs": []
    },
    {
      "cell_type": "code",
      "source": [
        "from keras.models import Sequential\n",
        "from keras.layers import Dense, Embedding, LSTM\n",
        "from tensorflow.keras.callbacks import EarlyStopping\n",
        "\n",
        "embedding_dim = 100\n",
        "\n",
        "# Define the model\n",
        "model = Sequential()\n",
        "model.add(Embedding(len(word_index) + 1, embedding_dim, input_length=max_sequence_length))\n",
        "model.add(LSTM(64, dropout=0.2, recurrent_dropout=0.2))\n",
        "model.add(Dense(5, activation='softmax'))\n",
        "\n",
        "model.summary()"
      ],
      "metadata": {
        "colab": {
          "base_uri": "https://localhost:8080/"
        },
        "id": "YyFhSZoa-XLn",
        "outputId": "9c90a278-e35a-4007-fff2-73db48964125"
      },
      "execution_count": 55,
      "outputs": [
        {
          "output_type": "stream",
          "name": "stderr",
          "text": [
            "WARNING:tensorflow:Layer lstm_7 will not use cuDNN kernels since it doesn't meet the criteria. It will use a generic GPU kernel as fallback when running on GPU.\n"
          ]
        },
        {
          "output_type": "stream",
          "name": "stdout",
          "text": [
            "Model: \"sequential_7\"\n",
            "_________________________________________________________________\n",
            " Layer (type)                Output Shape              Param #   \n",
            "=================================================================\n",
            " embedding_7 (Embedding)     (None, 49, 100)           1533400   \n",
            "                                                                 \n",
            " lstm_7 (LSTM)               (None, 64)                42240     \n",
            "                                                                 \n",
            " dense_7 (Dense)             (None, 5)                 325       \n",
            "                                                                 \n",
            "=================================================================\n",
            "Total params: 1,575,965\n",
            "Trainable params: 1,575,965\n",
            "Non-trainable params: 0\n",
            "_________________________________________________________________\n"
          ]
        }
      ]
    },
    {
      "cell_type": "code",
      "source": [
        "# Compile and train the model\n",
        "model.compile(loss='categorical_crossentropy', optimizer='adam', metrics=['accuracy'])\n",
        "\n",
        "es = EarlyStopping(monitor='val_accuracy', patience=5, restore_best_weights=True)\n",
        "\n",
        "model.fit(train_data, train_labels, validation_data = (val_data, val_labels), epochs=5, batch_size=32, callbacks=[es])"
      ],
      "metadata": {
        "colab": {
          "base_uri": "https://localhost:8080/"
        },
        "id": "VlFRDGK2-aAL",
        "outputId": "669cf177-ab0f-4230-809c-1bdbad21d875"
      },
      "execution_count": 56,
      "outputs": [
        {
          "output_type": "stream",
          "name": "stdout",
          "text": [
            "Epoch 1/5\n",
            "214/214 [==============================] - 95s 424ms/step - loss: 1.5394 - accuracy: 0.3080 - val_loss: 1.4787 - val_accuracy: 0.3509\n",
            "Epoch 2/5\n",
            "214/214 [==============================] - 73s 342ms/step - loss: 1.1922 - accuracy: 0.4868 - val_loss: 1.4114 - val_accuracy: 0.3947\n",
            "Epoch 3/5\n",
            "214/214 [==============================] - 68s 317ms/step - loss: 0.7409 - accuracy: 0.7251 - val_loss: 1.6333 - val_accuracy: 0.3596\n",
            "Epoch 4/5\n",
            "214/214 [==============================] - 70s 328ms/step - loss: 0.4007 - accuracy: 0.8600 - val_loss: 1.9234 - val_accuracy: 0.3480\n",
            "Epoch 5/5\n",
            "214/214 [==============================] - 71s 335ms/step - loss: 0.2258 - accuracy: 0.9257 - val_loss: 2.5009 - val_accuracy: 0.3830\n"
          ]
        },
        {
          "output_type": "execute_result",
          "data": {
            "text/plain": [
              "<keras.callbacks.History at 0x7fd4690b3790>"
            ]
          },
          "metadata": {},
          "execution_count": 56
        }
      ]
    },
    {
      "cell_type": "code",
      "source": [
        "# Evaluate the model\n",
        "loss, accuracy = model.evaluate(test_data, test_labels)\n",
        "print(\"Test Accuracy: {:.2f}%\".format(accuracy * 100))"
      ],
      "metadata": {
        "colab": {
          "base_uri": "https://localhost:8080/"
        },
        "id": "c91COf4Q-cdr",
        "outputId": "41f78b3c-9610-4d2a-971b-9e60289ba3db"
      },
      "execution_count": 57,
      "outputs": [
        {
          "output_type": "stream",
          "name": "stdout",
          "text": [
            "43/43 [==============================] - 2s 53ms/step - loss: 2.6130 - accuracy: 0.3767\n",
            "Test Accuracy: 37.67%\n"
          ]
        }
      ]
    },
    {
      "cell_type": "code",
      "source": [
        "from sklearn.metrics import confusion_matrix\n",
        "import seaborn as sns\n",
        "import matplotlib.pyplot as plt\n",
        "\n",
        "# calculate the confusion matrix\n",
        "preds = model.predict(test_data)\n",
        "conf = confusion_matrix(np.argmax(test_labels, axis=1), np.argmax(preds, axis=1))\n",
        "\n",
        "# plot the confusion matrix as a heatmap\n",
        "plt.figure(figsize=(7,6))\n",
        "sns.heatmap(conf, annot=True, fmt='d')\n",
        "plt.xlabel('Predicted label')\n",
        "plt.ylabel('True label')\n",
        "plt.show()"
      ],
      "metadata": {
        "colab": {
          "base_uri": "https://localhost:8080/",
          "height": 559
        },
        "id": "hV5FMzPLEPi6",
        "outputId": "cce2dcc0-d8db-46c7-c11e-f7958f04e3ab"
      },
      "execution_count": 58,
      "outputs": [
        {
          "output_type": "stream",
          "name": "stdout",
          "text": [
            "43/43 [==============================] - 2s 31ms/step\n"
          ]
        },
        {
          "output_type": "display_data",
          "data": {
            "text/plain": [
              "<Figure size 700x600 with 2 Axes>"
            ],
            "image/png": "[encoded data removed]"
          },
          "metadata": {}
        }
      ]
    }
  ]
}