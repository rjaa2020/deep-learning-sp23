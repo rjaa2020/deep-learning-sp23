{
  "nbformat": 4,
  "nbformat_minor": 0,
  "metadata": {
    "colab": {
      "provenance": [],
      "authorship_tag": "ABX9TyPdWcI0UZNqrJ4LW1vTuyzR",
      "include_colab_link": true
    },
    "kernelspec": {
      "name": "python3",
      "display_name": "Python 3"
    },
    "language_info": {
      "name": "python"
    }
  },
  "cells": [
    {
      "cell_type": "markdown",
      "metadata": {
        "id": "view-in-github",
        "colab_type": "text"
      },
      "source": [
        "<a href=\"https://colab.research.google.com/github/s-jainr/deep-learning-sp23/blob/main/deep_learning_sp23_assessment_1.ipynb\" target=\"_parent\"><img src=\"https://colab.research.google.com/assets/colab-badge.svg\" alt=\"Open In Colab\"/></a>"
      ]
    },
    {
      "cell_type": "code",
      "execution_count": null,
      "metadata": {
        "colab": {
          "base_uri": "https://localhost:8080/"
        },
        "id": "ACMhkRFi_ybC",
        "outputId": "a3942e43-4a31-4adf-b087-aef6b78bdca6"
      },
      "outputs": [
        {
          "output_type": "stream",
          "name": "stdout",
          "text": [
            "--2023-02-12 12:59:46--  https://cdn.britannica.com/55/1455-004-5897143C/Flag-Hungary.jpg\n",
            "Resolving cdn.britannica.com (cdn.britannica.com)... 13.225.142.50, 13.225.142.104, 13.225.142.98, ...\n",
            "Connecting to cdn.britannica.com (cdn.britannica.com)|13.225.142.50|:443... connected.\n",
            "HTTP request sent, awaiting response... 200 OK\n",
            "Length: 6647 (6.5K) [image/jpeg]\n",
            "Saving to: ‘flag.jpg’\n",
            "\n",
            "\rflag.jpg              0%[                    ]       0  --.-KB/s               \rflag.jpg            100%[===================>]   6.49K  --.-KB/s    in 0s      \n",
            "\n",
            "2023-02-12 12:59:46 (271 MB/s) - ‘flag.jpg’ saved [6647/6647]\n",
            "\n"
          ]
        }
      ],
      "source": [
        "!wget https://cdn.britannica.com/55/1455-004-5897143C/Flag-Hungary.jpg -O flag.jpg"
      ]
    },
    {
      "cell_type": "markdown",
      "source": [],
      "metadata": {
        "id": "zze13yk5ASbC"
      }
    },
    {
      "cell_type": "code",
      "source": [
        "flag = '/content/flag.jpg'\n",
        "\n",
        "\n",
        "# import matplotlib.pyplot as plt\n",
        "# import matplotlib.image as mpimg\n",
        "\n",
        "# img = mpimg.imread(flag)\n",
        "\n",
        "# plt.imshow(img)\n",
        "\n",
        "import cv2\n",
        "from PIL import Image as im\n",
        "# import numpy as np\n",
        "img = cv2.imread(flag)\n",
        "\n",
        "# for i in range(0,30):\n",
        "#   for j in range(0,30):\n",
        "#     img[i,j] = (0,0,0)"
      ],
      "metadata": {
        "id": "1J3TC_0vBMLt"
      },
      "execution_count": null,
      "outputs": []
    },
    {
      "cell_type": "code",
      "source": [],
      "metadata": {
        "id": "MAXUh7qJGqOg"
      },
      "execution_count": null,
      "outputs": []
    },
    {
      "cell_type": "code",
      "source": [
        "type(img)\n",
        "\n",
        "data = im.fromarray(img)\n",
        "\n",
        "display(data)"
      ],
      "metadata": {
        "id": "4x3RcgZOEfaN"
      },
      "execution_count": null,
      "outputs": []
    }
  ]
}