{
  "nbformat": 4,
  "nbformat_minor": 0,
  "metadata": {
    "colab": {
      "provenance": [],
      "authorship_tag": "ABX9TyMC8+x+dh1IXx+YF1oGdGr1",
      "include_colab_link": true
    },
    "kernelspec": {
      "name": "python3",
      "display_name": "Python 3"
    },
    "language_info": {
      "name": "python"
    }
  },
  "cells": [
    {
      "cell_type": "markdown",
      "metadata": {
        "id": "view-in-github",
        "colab_type": "text"
      },
      "source": [
        "<a href=\"https://colab.research.google.com/github/s-jainr/deep-learning-sp23/blob/main/deep_learning_sp23_assessment_1.ipynb\" target=\"_parent\"><img src=\"https://colab.research.google.com/assets/colab-badge.svg\" alt=\"Open In Colab\"/></a>"
      ]
    },
    {
      "cell_type": "code",
      "execution_count": null,
      "metadata": {
        "colab": {
          "base_uri": "https://localhost:8080/"
        },
        "id": "ACMhkRFi_ybC",
        "outputId": "12fb7151-6eb3-4782-d3cb-9daafa567806"
      },
      "outputs": [
        {
          "output_type": "stream",
          "name": "stdout",
          "text": [
            "--2023-02-09 16:29:15--  https://cdn.britannica.com/55/1455-004-5897143C/Flag-Hungary.jpg\n",
            "Resolving cdn.britannica.com (cdn.britannica.com)... 99.84.252.14, 99.84.252.26, 99.84.252.95, ...\n",
            "Connecting to cdn.britannica.com (cdn.britannica.com)|99.84.252.14|:443... connected.\n",
            "HTTP request sent, awaiting response... 200 OK\n",
            "Length: 6647 (6.5K) [image/jpeg]\n",
            "Saving to: ‘Flag-Hungary.jpg’\n",
            "\n",
            "\rFlag-Hungary.jpg      0%[                    ]       0  --.-KB/s               \rFlag-Hungary.jpg    100%[===================>]   6.49K  --.-KB/s    in 0s      \n",
            "\n",
            "2023-02-09 16:29:15 (1.41 GB/s) - ‘Flag-Hungary.jpg’ saved [6647/6647]\n",
            "\n"
          ]
        }
      ],
      "source": [
        "!wget https://cdn.britannica.com/55/1455-004-5897143C/Flag-Hungary.jpg"
      ]
    },
    {
      "cell_type": "markdown",
      "source": [],
      "metadata": {
        "id": "zze13yk5ASbC"
      }
    },
    {
      "cell_type": "code",
      "source": [],
      "metadata": {
        "id": "1V4GyvxbAOzb"
      },
      "execution_count": null,
      "outputs": []
    }
  ]
}