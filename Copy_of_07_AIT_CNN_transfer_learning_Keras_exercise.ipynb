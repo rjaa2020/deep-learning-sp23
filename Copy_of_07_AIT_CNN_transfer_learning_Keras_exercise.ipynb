{
 "cells": [
  {
   "cell_type": "markdown",
   "metadata": {
    "id": "view-in-github",
    "colab_type": "text"
   },
   "source": [
    "<a href=\"https://colab.research.google.com/github/s-jainr/deep-learning-sp23/blob/main/Copy_of_07_AIT_CNN_transfer_learning_Keras_exercise.ipynb\" target=\"_parent\"><img src=\"https://colab.research.google.com/assets/colab-badge.svg\" alt=\"Open In Colab\"/></a>"
   ]
  },
  {
   "cell_type": "markdown",
   "metadata": {
    "id": "tq01HfyI-qoQ"
   },
   "source": [
    "## Copyright\n",
    "<pre>\n",
    "You may use and modify this code for research and development purpuses.\n",
    "Using this code for educational purposes (self-paced or instructor led) without the permission of the author is prohibited.\n",
    "\n",
    "Paper about Inception V3 model: \n",
    "https://arxiv.org/abs/1512.00567\n",
    "\n",
    "Sources used during preparation of this notebook:\n",
    "https://keras.io/applications/\n",
    "https://gist.github.com/fchollet/7eb39b44eb9e16e59632d25fb3119975\n",
    "https://colab.research.google.com/github/google/eng-edu/blob/master/ml/pc/exercises/image_classification_part1.ipynb\n",
    "\n",
    "Copyright (c) 2023 Bálint Gyires-Tóth - All Rights Reserved\n",
    "</pre>"
   ]
  },
  {
   "cell_type": "markdown",
   "metadata": {
    "id": "2CE3jg_M-qoT"
   },
   "source": [
    "# Transfer learning"
   ]
  },
  {
   "cell_type": "markdown",
   "metadata": {
    "id": "6814-k1U-qoV"
   },
   "source": [
    "Transfer learning means that a trained network is trained further with additional data and possibly a custom goal."
   ]
  },
  {
   "cell_type": "markdown",
   "metadata": {
    "id": "IzahQL5F-qoW"
   },
   "source": [
    "## Downloading and loading the data"
   ]
  },
  {
   "cell_type": "markdown",
   "metadata": {
    "id": "ZfnHtGiv-qoW"
   },
   "source": [
    "We will use the dogs and cats dataset from https://www.kaggle.com/c/dogs-vs-cats. You can download a fraction of the dataset from https://storage.googleapis.com/mledu-datasets/cats_and_dogs_filtered.zip."
   ]
  },
  {
   "cell_type": "code",
   "execution_count": 1,
   "metadata": {
    "id": "8OaRFHSh-qoa",
    "colab": {
     "base_uri": "https://localhost:8080/"
    },
    "outputId": "7eb76a88-c82e-4388-9535-ae2728fe8e55"
   },
   "outputs": [
    {
     "name": "stderr",
     "output_type": "stream",
     "text": [
      "/tmp/cats_and_dogs_filtered.zip: No such file or directory\n"
     ]
    }
   ],
   "source": [
    "!wget --no-check-certificate https://storage.googleapis.com/mledu-datasets/cats_and_dogs_filtered.zip -O /tmp/cats_and_dogs_filtered.zip"
   ]
  },
  {
   "cell_type": "code",
   "execution_count": 2,
   "metadata": {
    "id": "1shW-2C-E6I5"
   },
   "outputs": [
    {
     "name": "stderr",
     "output_type": "stream",
     "text": [
      "The system cannot find the path specified.\n"
     ]
    }
   ],
   "source": [
    "!apt-get install unp > /dev/null"
   ]
  },
  {
   "cell_type": "code",
   "execution_count": 3,
   "metadata": {
    "id": "WCJfoipIE_la"
   },
   "outputs": [
    {
     "name": "stderr",
     "output_type": "stream",
     "text": [
      "The system cannot find the path specified.\n"
     ]
    }
   ],
   "source": [
    "!unp /tmp/cats_and_dogs_filtered.zip > /dev/null"
   ]
  },
  {
   "cell_type": "markdown",
   "metadata": {
    "id": "mH0Fp13a-qog"
   },
   "source": [
    "Next, we define the names of the directories for training and validation data:\n"
   ]
  },
  {
   "cell_type": "code",
   "execution_count": 4,
   "metadata": {
    "id": "FqswmIeH-qoh"
   },
   "outputs": [],
   "source": [
    "import os\n",
    "base_dir = 'cats_and_dogs_filtered' \n",
    "train_dir = os.path.join(base_dir, 'train')\n",
    "validation_dir = os.path.join(base_dir, 'validation')\n",
    "train_cats_dir = os.path.join(train_dir, 'cats')\n",
    "train_dogs_dir = os.path.join(train_dir, 'dogs')\n",
    "validation_cats_dir = os.path.join(validation_dir, 'cats')\n",
    "validation_dogs_dir = os.path.join(validation_dir, 'dogs')"
   ]
  },
  {
   "cell_type": "markdown",
   "metadata": {
    "id": "E794wV6JGEtc"
   },
   "source": [
    "Let's list some files from the directories:\n"
   ]
  },
  {
   "cell_type": "code",
   "execution_count": 5,
   "metadata": {
    "id": "Dr0nxevU-qok",
    "colab": {
     "base_uri": "https://localhost:8080/"
    },
    "outputId": "de6b1dc2-7298-44c6-9188-7fc57da56955"
   },
   "outputs": [
    {
     "ename": "FileNotFoundError",
     "evalue": "[WinError 3] The system cannot find the path specified: 'cats_and_dogs_filtered\\\\train\\\\cats'",
     "output_type": "error",
     "traceback": [
      "\u001B[1;31m---------------------------------------------------------------------------\u001B[0m",
      "\u001B[1;31mFileNotFoundError\u001B[0m                         Traceback (most recent call last)",
      "\u001B[1;32m~\\AppData\\Local\\Temp\\ipykernel_23832\\3795596412.py\u001B[0m in \u001B[0;36m<cell line: 1>\u001B[1;34m()\u001B[0m\n\u001B[1;32m----> 1\u001B[1;33m \u001B[0mtrain_cat_fnames\u001B[0m \u001B[1;33m=\u001B[0m \u001B[0mos\u001B[0m\u001B[1;33m.\u001B[0m\u001B[0mlistdir\u001B[0m\u001B[1;33m(\u001B[0m\u001B[0mtrain_cats_dir\u001B[0m\u001B[1;33m)\u001B[0m\u001B[1;33m\u001B[0m\u001B[1;33m\u001B[0m\u001B[0m\n\u001B[0m\u001B[0;32m      2\u001B[0m \u001B[0mprint\u001B[0m\u001B[1;33m(\u001B[0m\u001B[0mtrain_cat_fnames\u001B[0m\u001B[1;33m[\u001B[0m\u001B[1;33m:\u001B[0m\u001B[1;36m10\u001B[0m\u001B[1;33m]\u001B[0m\u001B[1;33m)\u001B[0m\u001B[1;33m\u001B[0m\u001B[1;33m\u001B[0m\u001B[0m\n\u001B[0;32m      3\u001B[0m \u001B[0mtrain_dog_fnames\u001B[0m \u001B[1;33m=\u001B[0m \u001B[0mos\u001B[0m\u001B[1;33m.\u001B[0m\u001B[0mlistdir\u001B[0m\u001B[1;33m(\u001B[0m\u001B[0mtrain_dogs_dir\u001B[0m\u001B[1;33m)\u001B[0m\u001B[1;33m\u001B[0m\u001B[1;33m\u001B[0m\u001B[0m\n\u001B[0;32m      4\u001B[0m \u001B[0mtrain_dog_fnames\u001B[0m\u001B[1;33m.\u001B[0m\u001B[0msort\u001B[0m\u001B[1;33m(\u001B[0m\u001B[1;33m)\u001B[0m\u001B[1;33m\u001B[0m\u001B[1;33m\u001B[0m\u001B[0m\n\u001B[0;32m      5\u001B[0m \u001B[0mprint\u001B[0m\u001B[1;33m(\u001B[0m\u001B[0mtrain_dog_fnames\u001B[0m\u001B[1;33m[\u001B[0m\u001B[1;33m:\u001B[0m\u001B[1;36m10\u001B[0m\u001B[1;33m]\u001B[0m\u001B[1;33m)\u001B[0m\u001B[1;33m\u001B[0m\u001B[1;33m\u001B[0m\u001B[0m\n",
      "\u001B[1;31mFileNotFoundError\u001B[0m: [WinError 3] The system cannot find the path specified: 'cats_and_dogs_filtered\\\\train\\\\cats'"
     ]
    }
   ],
   "source": [
    "train_cat_fnames = os.listdir(train_cats_dir)\n",
    "print(train_cat_fnames[:10])\n",
    "train_dog_fnames = os.listdir(train_dogs_dir)\n",
    "train_dog_fnames.sort()\n",
    "print(train_dog_fnames[:10])"
   ]
  },
  {
   "cell_type": "markdown",
   "metadata": {
    "id": "BjWqVKXu-qon"
   },
   "source": [
    "Let's investigate some example photos from the dataset:"
   ]
  },
  {
   "cell_type": "code",
   "source": [
    "train_cat_fnames[:10]"
   ],
   "metadata": {
    "colab": {
     "base_uri": "https://localhost:8080/"
    },
    "id": "IW9S_rWCmDJg",
    "outputId": "6be33d41-3984-4c57-dbe0-38635e0acfb4"
   },
   "execution_count": null,
   "outputs": []
  },
  {
   "cell_type": "code",
   "execution_count": null,
   "metadata": {
    "id": "liFMymcY-qoo",
    "colab": {
     "base_uri": "https://localhost:8080/",
     "height": 1000
    },
    "outputId": "61e3f99e-bead-4cfd-b660-ef0e4552f360"
   },
   "outputs": [],
   "source": [
    "import matplotlib.pyplot as plt\n",
    "import matplotlib.image as mpimg\n",
    "\n",
    "nrows = 4\n",
    "ncols = 4\n",
    "\n",
    "fig = plt.gcf()\n",
    "fig.set_size_inches(ncols * 4, nrows * 4)\n",
    "\n",
    "next_cat_pix = [os.path.join(train_cats_dir, fname) for fname in train_cat_fnames[:int(ncols*nrows/2)]]\n",
    "next_dog_pix = [os.path.join(train_dogs_dir, fname) for fname in train_dog_fnames[:int(ncols*nrows/2)]]\n",
    "\n",
    "for i, img_path in enumerate(next_cat_pix+next_dog_pix):\n",
    "    sp = plt.subplot(nrows, ncols, i + 1)\n",
    "    img = mpimg.imread(img_path)\n",
    "    plt.imshow(img)\n",
    "\n",
    "plt.show()"
   ]
  },
  {
   "cell_type": "markdown",
   "metadata": {
    "id": "5xUy6MXe-qor"
   },
   "source": [
    "## Loading a pretrained network and training it further (transfer learning)"
   ]
  },
  {
   "cell_type": "code",
   "execution_count": null,
   "metadata": {
    "id": "OUec-EFp60Jd"
   },
   "outputs": [],
   "source": [
    "from tensorflow.keras.models import Model\n",
    "from tensorflow.keras.preprocessing.image import ImageDataGenerator\n",
    "from tensorflow.keras.applications.inception_v3 import InceptionV3,preprocess_input,decode_predictions\n",
    "from tensorflow.keras.preprocessing import image\n",
    "from tensorflow.keras.optimizers import SGD\n",
    "from tensorflow.keras.layers import Dense, GlobalAveragePooling2D\n",
    "from tensorflow.keras import backend as K\n",
    "import numpy as np"
   ]
  },
  {
   "cell_type": "code",
   "execution_count": null,
   "metadata": {
    "id": "jxP4D9K86_jW"
   },
   "outputs": [],
   "source": [
    "img_height=299\n",
    "img_width=299"
   ]
  },
  {
   "cell_type": "code",
   "execution_count": null,
   "metadata": {
    "id": "HOUVcKoY8d22",
    "colab": {
     "base_uri": "https://localhost:8080/"
    },
    "outputId": "bf18cc52-4b77-47da-b3b9-8ec16cc80e14"
   },
   "outputs": [],
   "source": [
    "# loading the pretrained Inception V3, without fully-connected layers\n",
    "base_model = InceptionV3(weights='imagenet', include_top=False)\n",
    "# Global Average Pooling is a pooling layer, that reshapes the data into 2D, which can be used \n",
    "# as input for further dense layers\n",
    "x = base_model.output\n",
    "x = GlobalAveragePooling2D()(x)\n",
    "# Adding a dense layer with ReLU\n",
    "x = Dense(1024, activation='relu')(x)\n",
    "# and finally the output layer for binary classification with a single output and sigmoid activation\n",
    "predictions = Dense(1, activation='sigmoid')(x)\n",
    "# defining the model\n",
    "model = Model(inputs=base_model.input, outputs=predictions)"
   ]
  },
  {
   "cell_type": "markdown",
   "metadata": {
    "id": "TDn6F5I9-3xa"
   },
   "source": [
    "We train the network in two steps. First, we train the upper dense layers, and while the convolutional layers are 'freezed':"
   ]
  },
  {
   "cell_type": "code",
   "execution_count": null,
   "metadata": {
    "id": "zJDd71848hfX"
   },
   "outputs": [],
   "source": [
    "for layer in base_model.layers:\n",
    "    layer.trainable = False\n",
    "\n",
    "# compiling the model after freezing the convolutional layers\n",
    "model.compile(optimizer='adam', metrics=['accuracy'],loss='binary_crossentropy')"
   ]
  },
  {
   "cell_type": "code",
   "execution_count": null,
   "metadata": {
    "id": "843vMmCh8mpG",
    "colab": {
     "base_uri": "https://localhost:8080/"
    },
    "outputId": "d56078c5-7bbf-4a6c-9bc1-7c293f341af9"
   },
   "outputs": [],
   "source": [
    "# using generators to load the images\n",
    "train_datagen = ImageDataGenerator(rescale=1./255, shear_range=0.2, zoom_range=0.2, horizontal_flip=True)\n",
    "valid_datagen = ImageDataGenerator(rescale=1./255)\n",
    "train_generator = train_datagen.flow_from_directory(train_dir, target_size=(img_height, img_width), batch_size=20, class_mode='binary')\n",
    "validation_generator = valid_datagen.flow_from_directory(validation_dir, target_size=(img_height, img_width), batch_size=20, class_mode='binary')\n"
   ]
  },
  {
   "cell_type": "code",
   "execution_count": null,
   "metadata": {
    "id": "hj5rQuL38o8n",
    "colab": {
     "base_uri": "https://localhost:8080/"
    },
    "outputId": "2f3fd30b-d3a7-4ba1-e48b-49c4775ea701"
   },
   "outputs": [],
   "source": [
    "# this function trains the model, while using the datagenerators\n",
    "# please note, that data augmentation is also performed, while training the network\n",
    "model.fit(train_generator,steps_per_epoch=200,validation_data=validation_generator,validation_steps=10,epochs=3)"
   ]
  },
  {
   "cell_type": "markdown",
   "metadata": {
    "id": "NinL5HN9HVJx"
   },
   "source": [
    "In the following part we will take the 2nd step: we will unfreeze the upper convolutional layers of Inception V3."
   ]
  },
  {
   "cell_type": "code",
   "execution_count": null,
   "metadata": {
    "id": "gunzMdNF8rev",
    "colab": {
     "base_uri": "https://localhost:8080/"
    },
    "outputId": "bd57ed24-ced6-4a2c-a036-51ed7575dccc"
   },
   "outputs": [],
   "source": [
    "print(\"The convolutional part of Inception V3:\")\n",
    "for i, layer in enumerate(base_model.layers):\n",
    "    print(i, layer.name)"
   ]
  },
  {
   "cell_type": "markdown",
   "metadata": {
    "id": "erOceztZDTTg"
   },
   "source": [
    "## Exercise"
   ]
  },
  {
   "cell_type": "markdown",
   "metadata": {
    "id": "cywxH0Me-qo-"
   },
   "source": [
    "Freeze everything below layer conv2d_56 (including conv2d_56): "
   ]
  },
  {
   "cell_type": "code",
   "execution_count": null,
   "metadata": {
    "id": "vsY1r4Q4D4IY"
   },
   "outputs": [],
   "source": [
    "for layer in base_model.layers[:173]:\n",
    "       layer.trainable = False\n",
    "for layer in base_model.layers[173:]:\n",
    "       layer.trainable = True"
   ]
  },
  {
   "cell_type": "markdown",
   "metadata": {
    "id": "XzAYGY7HHgNx"
   },
   "source": [
    "Recompiling the model, this time with SGD optimizer, small learning rate (0.0001) and with a momentum (0.9). "
   ]
  },
  {
   "cell_type": "code",
   "execution_count": null,
   "metadata": {
    "id": "YPRb--jjD6rv"
   },
   "outputs": [],
   "source": [
    "model.compile(optimizer=SGD(learning_rate=0.0001, momentum=0.9), metrics=['accuracy'], loss='binary_crossentropy')"
   ]
  },
  {
   "cell_type": "markdown",
   "metadata": {
    "id": "yJusS6e5ERKI"
   },
   "source": [
    "And train the model further, as we did before, and inspect the loss and accuracy:"
   ]
  },
  {
   "cell_type": "code",
   "execution_count": null,
   "metadata": {
    "id": "MM9IkIObD_24",
    "colab": {
     "base_uri": "https://localhost:8080/"
    },
    "outputId": "a012de23-d992-4de7-d979-cfcfafc60202"
   },
   "outputs": [],
   "source": [
    "model.fit_generator(train_generator,steps_per_epoch=200,validation_data=validation_generator,validation_steps=10,epochs=3)"
   ]
  },
  {
   "cell_type": "code",
   "source": [
    "model.history"
   ],
   "metadata": {
    "colab": {
     "base_uri": "https://localhost:8080/",
     "height": 166
    },
    "id": "8pWOKMhCuzWt",
    "outputId": "7b245b48-4f24-43a2-c7f3-97b56288dc8d"
   },
   "execution_count": 9,
   "outputs": [
    {
     "ename": "NameError",
     "evalue": "name 'model' is not defined",
     "output_type": "error",
     "traceback": [
      "\u001B[1;31m---------------------------------------------------------------------------\u001B[0m",
      "\u001B[1;31mNameError\u001B[0m                                 Traceback (most recent call last)",
      "\u001B[1;32m~\\AppData\\Local\\Temp\\ipykernel_23832\\2126515622.py\u001B[0m in \u001B[0;36m<cell line: 1>\u001B[1;34m()\u001B[0m\n\u001B[1;32m----> 1\u001B[1;33m \u001B[0mmodel\u001B[0m\u001B[1;33m.\u001B[0m\u001B[0mhistory\u001B[0m\u001B[1;33m\u001B[0m\u001B[1;33m\u001B[0m\u001B[0m\n\u001B[0m",
      "\u001B[1;31mNameError\u001B[0m: name 'model' is not defined"
     ]
    }
   ]
  }
 ],
 "metadata": {
  "accelerator": "GPU",
  "colab": {
   "provenance": [],
   "include_colab_link": true
  },
  "kernelspec": {
   "display_name": "Python 3",
   "language": "python",
   "name": "python3"
  },
  "language_info": {
   "codemirror_mode": {
    "name": "ipython",
    "version": 3
   },
   "file_extension": ".py",
   "mimetype": "text/x-python",
   "name": "python",
   "nbconvert_exporter": "python",
   "pygments_lexer": "ipython3",
   "version": "3.6.6"
  },
  "gpuClass": "standard"
 },
 "nbformat": 4,
 "nbformat_minor": 0
}
