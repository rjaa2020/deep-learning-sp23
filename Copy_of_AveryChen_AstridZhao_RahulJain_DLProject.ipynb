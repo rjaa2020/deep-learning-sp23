{
  "cells": [
    {
      "cell_type": "markdown",
      "metadata": {
        "id": "view-in-github",
        "colab_type": "text"
      },
      "source": [
        "<a href=\"https://colab.research.google.com/github/s-jainr/deep-learning-sp23/blob/main/Copy_of_AveryChen_AstridZhao_RahulJain_DLProject.ipynb\" target=\"_parent\"><img src=\"https://colab.research.google.com/assets/colab-badge.svg\" alt=\"Open In Colab\"/></a>"
      ]
    },
    {
      "cell_type": "markdown",
      "metadata": {
        "id": "KOMTtUaZKEol"
      },
      "source": [
        "# Milestone 1\n"
      ]
    },
    {
      "cell_type": "code",
      "execution_count": 1,
      "metadata": {
        "colab": {
          "base_uri": "https://localhost:8080/"
        },
        "id": "KyFpBkdkKH_l",
        "outputId": "59603e63-9ad0-45ae-b43f-3209f00126ed"
      },
      "outputs": [
        {
          "output_type": "stream",
          "name": "stdout",
          "text": [
            "Looking in indexes: https://pypi.org/simple, https://us-python.pkg.dev/colab-wheels/public/simple/\n",
            "Requirement already satisfied: pytreebank in /usr/local/lib/python3.9/dist-packages (0.2.7)\n"
          ]
        }
      ],
      "source": [
        "!pip install pytreebank\n",
        "import pytreebank\n"
      ]
    },
    {
      "cell_type": "code",
      "execution_count": 2,
      "metadata": {
        "id": "bRcIM6ToPDz2"
      },
      "outputs": [],
      "source": [
        "import matplotlib.pyplot as plt\n",
        "import seaborn as sns\n",
        "import numpy as np\n",
        "import pandas as pd\n",
        "import matplotlib.pyplot as plt \n",
        "from sklearn import preprocessing"
      ]
    },
    {
      "cell_type": "code",
      "execution_count": 3,
      "metadata": {
        "id": "GgzMFkJTPGoC"
      },
      "outputs": [],
      "source": [
        "# Keras imports : model, layers, optimizers\n",
        "from tensorflow.keras.models import Sequential\n",
        "from tensorflow.keras.layers import Dense, Embedding, Flatten, Dropout\n",
        "from tensorflow.keras.initializers import HeNormal\n",
        "from tensorflow.keras.callbacks import EarlyStopping"
      ]
    },
    {
      "cell_type": "code",
      "execution_count": 4,
      "metadata": {
        "id": "3V_Lf8e6O3Dc"
      },
      "outputs": [],
      "source": [
        "# load dataset: a dataset capturing fine-grained sentiment over movie reviews\n",
        "# https://pypi.org/project/pytreebank/\n",
        "dataset = pytreebank.load_sst(\"/path/to/sentiment/\")"
      ]
    },
    {
      "cell_type": "code",
      "execution_count": 5,
      "metadata": {
        "colab": {
          "base_uri": "https://localhost:8080/"
        },
        "id": "-4srB7qVZsUb",
        "outputId": "fa198f44-b0dd-4fc4-a503-086225c0fe00"
      },
      "outputs": [
        {
          "output_type": "stream",
          "name": "stdout",
          "text": [
            "Looking in indexes: https://pypi.org/simple, https://us-python.pkg.dev/colab-wheels/public/simple/\n",
            "Requirement already satisfied: gensim in /usr/local/lib/python3.9/dist-packages (4.3.1)\n",
            "Requirement already satisfied: numpy>=1.18.5 in /usr/local/lib/python3.9/dist-packages (from gensim) (1.22.4)\n",
            "Requirement already satisfied: smart-open>=1.8.1 in /usr/local/lib/python3.9/dist-packages (from gensim) (6.3.0)\n",
            "Requirement already satisfied: scipy>=1.7.0 in /usr/local/lib/python3.9/dist-packages (from gensim) (1.10.1)\n"
          ]
        }
      ],
      "source": [
        "!pip install gensim\n",
        "from gensim.parsing.preprocessing import remove_stopwords"
      ]
    },
    {
      "cell_type": "code",
      "execution_count": 6,
      "metadata": {
        "colab": {
          "base_uri": "https://localhost:8080/"
        },
        "id": "_UA_zzA4N-9y",
        "outputId": "6764595a-98e4-42d5-e4ff-0585bedd43e4"
      },
      "outputs": [
        {
          "output_type": "stream",
          "name": "stdout",
          "text": [
            "The Rock is destined to be the 21st Century 's new `` Conan '' and that he 's going to make a splash even greater than Arnold Schwarzenegger , Jean-Claud Van Damme or Steven Segal . has sentiment label positive\n",
            "The Rock has sentiment label neutral\n",
            "The has sentiment label neutral\n",
            "Rock has sentiment label neutral\n",
            "is destined to be the 21st Century 's new `` Conan '' and that he 's going to make a splash even greater than Arnold Schwarzenegger , Jean-Claud Van Damme or Steven Segal . has sentiment label very positive\n",
            "is destined to be the 21st Century 's new `` Conan '' and that he 's going to make a splash even greater than Arnold Schwarzenegger , Jean-Claud Van Damme or Steven Segal has sentiment label positive\n",
            "is has sentiment label neutral\n",
            "destined to be the 21st Century 's new `` Conan '' and that he 's going to make a splash even greater than Arnold Schwarzenegger , Jean-Claud Van Damme or Steven Segal has sentiment label very positive\n",
            "destined has sentiment label neutral\n",
            "to be the 21st Century 's new `` Conan '' and that he 's going to make a splash even greater than Arnold Schwarzenegger , Jean-Claud Van Damme or Steven Segal has sentiment label neutral\n",
            "to be the 21st Century 's new `` Conan '' and has sentiment label neutral\n",
            "to be the 21st Century 's new `` Conan '' has sentiment label neutral\n",
            "to be the 21st Century 's new `` Conan has sentiment label neutral\n",
            "to has sentiment label neutral\n",
            "be the 21st Century 's new `` Conan has sentiment label neutral\n",
            "be has sentiment label neutral\n",
            "the 21st Century 's new `` Conan has sentiment label neutral\n",
            "the has sentiment label neutral\n",
            "21st Century 's new `` Conan has sentiment label neutral\n",
            "21st has sentiment label neutral\n",
            "Century 's new `` Conan has sentiment label neutral\n",
            "Century 's has sentiment label neutral\n",
            "Century has sentiment label neutral\n",
            "'s has sentiment label neutral\n",
            "new `` Conan has sentiment label neutral\n",
            "new has sentiment label positive\n",
            "`` Conan has sentiment label neutral\n",
            "`` has sentiment label neutral\n",
            "Conan has sentiment label neutral\n",
            "'' has sentiment label neutral\n",
            "and has sentiment label neutral\n",
            "that he 's going to make a splash even greater than Arnold Schwarzenegger , Jean-Claud Van Damme or Steven Segal has sentiment label positive\n",
            "that has sentiment label neutral\n",
            "he 's going to make a splash even greater than Arnold Schwarzenegger , Jean-Claud Van Damme or Steven Segal has sentiment label positive\n",
            "he has sentiment label neutral\n",
            "'s going to make a splash even greater than Arnold Schwarzenegger , Jean-Claud Van Damme or Steven Segal has sentiment label positive\n",
            "'s has sentiment label neutral\n",
            "going to make a splash even greater than Arnold Schwarzenegger , Jean-Claud Van Damme or Steven Segal has sentiment label positive\n",
            "going has sentiment label neutral\n",
            "to make a splash even greater than Arnold Schwarzenegger , Jean-Claud Van Damme or Steven Segal has sentiment label positive\n",
            "to has sentiment label neutral\n",
            "make a splash even greater than Arnold Schwarzenegger , Jean-Claud Van Damme or Steven Segal has sentiment label very positive\n",
            "make a splash even greater has sentiment label positive\n",
            "make has sentiment label neutral\n",
            "a splash even greater has sentiment label positive\n",
            "a splash has sentiment label positive\n",
            "a has sentiment label neutral\n",
            "splash has sentiment label positive\n",
            "even greater has sentiment label neutral\n",
            "even has sentiment label neutral\n",
            "greater has sentiment label positive\n",
            "than Arnold Schwarzenegger , Jean-Claud Van Damme or Steven Segal has sentiment label neutral\n",
            "than has sentiment label neutral\n",
            "Arnold Schwarzenegger , Jean-Claud Van Damme or Steven Segal has sentiment label neutral\n",
            "Arnold Schwarzenegger , Jean-Claud Van Damme or has sentiment label neutral\n",
            "Arnold Schwarzenegger , Jean-Claud Van Damme has sentiment label neutral\n",
            "Arnold Schwarzenegger , has sentiment label neutral\n",
            "Arnold Schwarzenegger has sentiment label negative\n",
            "Arnold has sentiment label neutral\n",
            "Schwarzenegger has sentiment label neutral\n",
            ", has sentiment label neutral\n",
            "Jean-Claud Van Damme has sentiment label neutral\n",
            "Jean-Claud has sentiment label neutral\n",
            "Van Damme has sentiment label neutral\n",
            "Van has sentiment label neutral\n",
            "Damme has sentiment label neutral\n",
            "or has sentiment label neutral\n",
            "Steven Segal has sentiment label neutral\n",
            "Steven has sentiment label neutral\n",
            "Segal has sentiment label neutral\n",
            ". has sentiment label neutral\n"
          ]
        }
      ],
      "source": [
        "# test\n",
        "dataset = pytreebank.load_sst()\n",
        "example = dataset[\"train\"][0]\n",
        "\n",
        "# extract spans from the tree.\n",
        "for label, sentence in example.to_labeled_lines():\n",
        "\tprint(\"%s has sentiment label %s\" % (\n",
        "\t\tsentence,\n",
        "\t\t[\"very negative\", \"negative\", \"neutral\", \"positive\", \"very positive\"][label]\n",
        "\t))"
      ]
    },
    {
      "cell_type": "code",
      "execution_count": 7,
      "metadata": {
        "id": "NgJEfz7SQOmA"
      },
      "outputs": [],
      "source": [
        "train_data = pytreebank.import_tree_corpus(\"/path/to/sentiment/train.txt\")\n",
        "validation_data = pytreebank.import_tree_corpus(\"/path/to/sentiment/dev.txt\")\n",
        "test_data = pytreebank.import_tree_corpus(\"/path/to/sentiment/test.txt\")"
      ]
    },
    {
      "cell_type": "markdown",
      "metadata": {
        "id": "576gMAeNZrcu"
      },
      "source": [
        "Preprocess the text to remove any irrelevant or sensitive information, such as email headers or personally identifiable information. This can also involve stop-word removal."
      ]
    },
    {
      "cell_type": "code",
      "execution_count": 8,
      "metadata": {
        "id": "w-BJ-VdC4EdD"
      },
      "outputs": [],
      "source": [
        "import string\n"
      ]
    },
    {
      "cell_type": "code",
      "execution_count": 9,
      "metadata": {
        "id": "52fUm2OE2Kx3"
      },
      "outputs": [],
      "source": [
        "# words2 = \"\"\n",
        "# for i in range(len(train_data)):\n",
        "#   for label, sentence in train_data[i].to_labeled_lines():\n",
        "#     new_sentence = remove_stopwords(sentence)\n",
        "#     new_sentence = new_sentence.translate(str.maketrans('', '', string.punctuation))\n",
        "#     words2 += new_sentence\n",
        "\n",
        "# print(len(words2))\n",
        "\n",
        "# words = \"\"\n",
        "# for i in range(len(train_data)):\n",
        "#   for label, sentence in train_data[i].to_labeled_lines():\n",
        "#     # words += sentence\n",
        "#     new_sentence = remove_stopwords(sentence)\n",
        "#     # new_sentence = new_sentence.translate(str.maketrans('', '', string.punctuation))\n",
        "#     words += new_sentence\n",
        "\n",
        "# print(len(words))"
      ]
    },
    {
      "cell_type": "code",
      "execution_count": 10,
      "metadata": {
        "id": "w4cxy9aSck8y"
      },
      "outputs": [],
      "source": [
        "# X_train \n",
        "# Y_train\n",
        "# X_validation\n",
        "# Y_validation\n",
        "# X_test\n",
        "# Y_test\n",
        "\n",
        "\n",
        "X_train = []\n",
        "Y_train = []\n",
        "\n",
        "for i in range(len(train_data)):\n",
        "  for label, sentence in train_data[i].to_labeled_lines():\n",
        "\n",
        "    sentence = remove_stopwords(sentence)\n",
        "    sentence = sentence.translate(str.maketrans('', '', string.punctuation))\n",
        "\n",
        "    if sentence == '':\n",
        "      break\n",
        "\n",
        "    # if sentence.strip() == X_train[-1]:\n",
        "    #   break\n",
        "\n",
        "    X_train.append(sentence)\n",
        "    Y_train.append(label)\n",
        "\n",
        "X_validation = []\n",
        "Y_validation = []\n",
        "for i in range(len(validation_data)):\n",
        "  for label, sentence in validation_data[i].to_labeled_lines():\n",
        "\n",
        "    sentence = remove_stopwords(sentence)\n",
        "    sentence = sentence.translate(str.maketrans('', '', string.punctuation))\n",
        "\n",
        "    X_validation.append(sentence)\n",
        "    Y_validation.append(label)\n",
        "\n",
        "X_test = []\n",
        "Y_test = []\n",
        "for i in range(len(test_data)):\n",
        "  for label, sentence in test_data[i].to_labeled_lines():\n",
        "\n",
        "    sentence = remove_stopwords(sentence)\n",
        "    sentence = sentence.translate(str.maketrans('', '', string.punctuation))\n",
        "\n",
        "    X_test.append(sentence)\n",
        "    Y_test.append(label)"
      ]
    },
    {
      "cell_type": "code",
      "execution_count": 11,
      "metadata": {
        "colab": {
          "base_uri": "https://localhost:8080/"
        },
        "id": "Ci-i42zM8O5Y",
        "outputId": "4ad3d804-106e-4d5a-db74-a532cb8c0b71"
      },
      "outputs": [
        {
          "output_type": "stream",
          "name": "stdout",
          "text": [
            "The Rock destined 21st Century s new  Conan  s going splash greater Arnold Schwarzenegger  JeanClaud Van Damme Steven Segal \n",
            "The Rock\n",
            "The\n",
            "Rock\n",
            "destined 21st Century s new  Conan  s going splash greater Arnold Schwarzenegger  JeanClaud Van Damme Steven Segal \n",
            "destined 21st Century s new  Conan  s going splash greater Arnold Schwarzenegger  JeanClaud Van Damme Steven Segal\n",
            "The gorgeously elaborate continuation  The Lord Rings  trilogy huge column words adequately cowriterdirector Peter Jackson s expanded vision JRR Tolkien s Middleearth \n",
            "The gorgeously elaborate continuation  The Lord Rings  trilogy\n",
            "The gorgeously elaborate continuation\n",
            "The\n"
          ]
        }
      ],
      "source": [
        "# for i in range(1):\n",
        "#   print(train_data[i].to_labeled_lines())\n",
        "\n",
        "\n",
        "X_train = np.array(X_train)\n",
        "for i in range(10):\n",
        "  print(X_train[i])"
      ]
    },
    {
      "cell_type": "code",
      "source": [
        "import pandas as pd\n",
        "\n",
        "unique_words = []\n",
        "for sent in X_train: unique_words += sent.lower().split()\n",
        "unique_words = sorted(set(unique_words))\n",
        "word_indices = dict((c, i) for i, c in enumerate(unique_words))\n",
        "\n",
        "vectors = []\n",
        "for i in range(X_train.shape[0]):\n",
        "  v = np.zeros(len(unique_words))\n",
        "  \n",
        "  for word in X_train[i].lower().split():\n",
        "    v[word_indices[word]] = 1\n",
        "\n",
        "  vectors.append(v)"
      ],
      "metadata": {
        "id": "l9eo9FcW2EhM"
      },
      "execution_count": 12,
      "outputs": []
    },
    {
      "cell_type": "code",
      "source": [
        "import matplotlib.pyplot as plt\n",
        "\n",
        "lengths = [len(x.split()) for x in X_train]\n",
        "plt.hist(lengths, bins=50)"
      ],
      "metadata": {
        "colab": {
          "base_uri": "https://localhost:8080/",
          "height": 725
        },
        "id": "ORIj8gDD_r1m",
        "outputId": "72b0efdd-10ba-460c-c0ec-5fee20408d32"
      },
      "execution_count": 13,
      "outputs": [
        {
          "output_type": "execute_result",
          "data": {
            "text/plain": [
              "(array([1.2000e+01, 2.0009e+04, 0.0000e+00, 7.2780e+03, 0.0000e+00,\n",
              "        5.0830e+03, 0.0000e+00, 4.0550e+03, 0.0000e+00, 3.2310e+03,\n",
              "        0.0000e+00, 2.8620e+03, 2.4080e+03, 0.0000e+00, 2.0050e+03,\n",
              "        0.0000e+00, 1.8580e+03, 0.0000e+00, 1.5990e+03, 0.0000e+00,\n",
              "        1.3320e+03, 0.0000e+00, 1.0720e+03, 0.0000e+00, 9.0800e+02,\n",
              "        7.0500e+02, 0.0000e+00, 5.4600e+02, 0.0000e+00, 4.1300e+02,\n",
              "        0.0000e+00, 3.1600e+02, 0.0000e+00, 2.5400e+02, 0.0000e+00,\n",
              "        2.1500e+02, 0.0000e+00, 1.1300e+02, 8.4000e+01, 0.0000e+00,\n",
              "        6.3000e+01, 0.0000e+00, 3.0000e+01, 0.0000e+00, 2.0000e+01,\n",
              "        0.0000e+00, 2.0000e+01, 0.0000e+00, 4.0000e+00, 5.0000e+00]),\n",
              " array([ 0.  ,  0.54,  1.08,  1.62,  2.16,  2.7 ,  3.24,  3.78,  4.32,\n",
              "         4.86,  5.4 ,  5.94,  6.48,  7.02,  7.56,  8.1 ,  8.64,  9.18,\n",
              "         9.72, 10.26, 10.8 , 11.34, 11.88, 12.42, 12.96, 13.5 , 14.04,\n",
              "        14.58, 15.12, 15.66, 16.2 , 16.74, 17.28, 17.82, 18.36, 18.9 ,\n",
              "        19.44, 19.98, 20.52, 21.06, 21.6 , 22.14, 22.68, 23.22, 23.76,\n",
              "        24.3 , 24.84, 25.38, 25.92, 26.46, 27.  ]),\n",
              " <BarContainer object of 50 artists>)"
            ]
          },
          "metadata": {},
          "execution_count": 13
        },
        {
          "output_type": "display_data",
          "data": {
            "text/plain": [
              "<Figure size 640x480 with 1 Axes>"
            ],
            "image/png": "[encoded data removed]"
          },
          "metadata": {}
        }
      ]
    },
    {
      "cell_type": "code",
      "source": [
        "len(vectors[0])"
      ],
      "metadata": {
        "colab": {
          "base_uri": "https://localhost:8080/"
        },
        "id": "AkZHFuM0CuNa",
        "outputId": "162647f1-e112-44ed-8346-6f8d55062268"
      },
      "execution_count": 14,
      "outputs": [
        {
          "output_type": "execute_result",
          "data": {
            "text/plain": [
              "16361"
            ]
          },
          "metadata": {},
          "execution_count": 14
        }
      ]
    },
    {
      "cell_type": "code",
      "source": [
        "one_hot = pd.get_dummies(Y_train)\n",
        "\n",
        "for i in range(one_hot.shape[1]):\n",
        "  print(f'instances of class {i}: {np.sum(one_hot[i])}')"
      ],
      "metadata": {
        "colab": {
          "base_uri": "https://localhost:8080/"
        },
        "id": "VU7YVFLLFQ5-",
        "outputId": "1c6dd5a0-6871-48ee-b820-a43c236cfb58"
      },
      "execution_count": 15,
      "outputs": [
        {
          "output_type": "stream",
          "name": "stdout",
          "text": [
            "instances of class 0: 3105\n",
            "instances of class 1: 9051\n",
            "instances of class 2: 28870\n",
            "instances of class 3: 11260\n",
            "instances of class 4: 4214\n"
          ]
        }
      ]
    },
    {
      "cell_type": "code",
      "source": [
        "from tensorflow.keras.models import Sequential\n",
        "from tensorflow.keras.layers import Dense, Activation, Dropout\n",
        "from tensorflow.keras.layers import LSTM\n",
        "from tensorflow.keras.callbacks import EarlyStopping\n",
        "from tensorflow.keras.optimizers import RMSprop"
      ],
      "metadata": {
        "id": "aR9HE21GFu0c"
      },
      "execution_count": 16,
      "outputs": []
    },
    {
      "cell_type": "code",
      "source": [
        "model = Sequential()\n",
        "model.add(LSTM(128, input_shape=(56500, 16361)))\n",
        "model.add(Dense(len(unique_words)))\n",
        "model.add(Activation('softmax'))\n",
        "model.add(Dense(1, activation=\"sigmoid\"))\n",
        "\n",
        "optimizer = RMSprop(learning_rate=0.01)\n",
        "model.compile(loss='binary_crossentropy', optimizer=optimizer)"
      ],
      "metadata": {
        "id": "2ZHXlLkyFh6q"
      },
      "execution_count": 17,
      "outputs": []
    },
    {
      "cell_type": "code",
      "source": [
        "es = EarlyStopping(patience=5, monitor='accuracy')"
      ],
      "metadata": {
        "id": "3qOeV9BdGCkt"
      },
      "execution_count": 18,
      "outputs": []
    },
    {
      "cell_type": "code",
      "source": [
        "import tensorflow as tf\n",
        "\n",
        "class CustomDataGen(tf.keras.utils.Sequence):\n",
        "    \n",
        "    def __init__(self, df, X_col, y_col,\n",
        "                 batch_size,\n",
        "                 input_size=(224, 224, 3),\n",
        "                 shuffle=False):\n",
        "        \n",
        "        self.df = df.copy()\n",
        "        self.X_col = X_col\n",
        "        self.y_col = y_col\n",
        "        self.batch_size = batch_size\n",
        "        self.input_size = input_size\n",
        "        self.shuffle = shuffle\n",
        "        \n",
        "        self.n = len(self.df)\n",
        "        self.n_name = df[y_col['name']].nunique()\n",
        "        self.n_type = df[y_col['type']].nunique()\n",
        "    \n",
        "    def on_epoch_end(self):\n",
        "        if self.shuffle:\n",
        "            self.df = self.df.sample(frac=1).reset_index(drop=True)\n",
        "    \n",
        "    def __get_input(self, path, bbox, target_size):\n",
        "    \n",
        "        xmin, ymin, w, h = bbox['x'], bbox['y'], bbox['width'], bbox['height']\n",
        "\n",
        "        image = tf.keras.preprocessing.image.load_img(path)\n",
        "        image_arr = tf.keras.preprocessing.image.img_to_array(image)\n",
        "\n",
        "        image_arr = image_arr[ymin:ymin+h, xmin:xmin+w]\n",
        "        image_arr = tf.image.resize(image_arr,(target_size[0], target_size[1])).numpy()\n",
        "\n",
        "        return image_arr/255.\n",
        "    \n",
        "    def __get_output(self, label, num_classes):\n",
        "        return tf.keras.utils.to_categorical(label, num_classes=num_classes)\n",
        "    \n",
        "    def __get_data(self, batches):\n",
        "        # Generates data containing batch_size samples\n",
        "\n",
        "        path_batch = batches[self.X_col['path']]\n",
        "        bbox_batch = batches[self.X_col['bbox']]\n",
        "        \n",
        "        name_batch = batches[self.y_col['name']]\n",
        "        type_batch = batches[self.y_col['type']]\n",
        "\n",
        "        X_batch = np.asarray([self.__get_input(x, y, self.input_size) for x, y in zip(path_batch, bbox_batch)])\n",
        "\n",
        "        y0_batch = np.asarray([self.__get_output(y, self.n_name) for y in name_batch])\n",
        "        y1_batch = np.asarray([self.__get_output(y, self.n_type) for y in type_batch])\n",
        "\n",
        "        return X_batch, tuple([y0_batch, y1_batch])\n",
        "    \n",
        "    def __getitem__(self, index):\n",
        "        \n",
        "        batches = self.df[index * self.batch_size:(index + 1) * self.batch_size]\n",
        "        X, y = self.__get_data(batches)        \n",
        "        return X, y\n",
        "    \n",
        "    def __len__(self):\n",
        "        return self.n // self.batch_size"
      ],
      "metadata": {
        "id": "UorhndC1A4de"
      },
      "execution_count": 19,
      "outputs": []
    },
    {
      "cell_type": "markdown",
      "source": [
        "Everything below is still crashing :( \n",
        "\n",
        "Trying to get it up and running ASAP"
      ],
      "metadata": {
        "id": "_TnBjCeCDLKj"
      }
    },
    {
      "cell_type": "code",
      "source": [
        "# X_gen = CustomDataGen(pd.DataFrame(vectors), None, None, 32, input_size=(56500, 16361))\n",
        "# Y_gen = CustomDataGen(pd.DataFrame(Y_train), None, None, 32, input_sie=(56500,))\n",
        "\n",
        "# network_history = model.fit(X_gen, Y_gen, \n",
        "#                             validation_data=(X_validation,Y_validation),\n",
        "#                             batch_size=128,                             \n",
        "#                             epochs=1000, \n",
        "#                             verbose=1, \n",
        "#                             callbacks=[es])"
      ],
      "metadata": {
        "id": "egXZytUQF9DI"
      },
      "execution_count": 20,
      "outputs": []
    }
  ],
  "metadata": {
    "accelerator": "GPU",
    "anaconda-cloud": {},
    "colab": {
      "provenance": [],
      "include_colab_link": true
    },
    "kernelspec": {
      "display_name": "Python 3",
      "language": "python",
      "name": "python3"
    },
    "language_info": {
      "codemirror_mode": {
        "name": "ipython",
        "version": 3
      },
      "file_extension": ".py",
      "mimetype": "text/x-python",
      "name": "python",
      "nbconvert_exporter": "python",
      "pygments_lexer": "ipython3",
      "version": "3.6.6"
    },
    "gpuClass": "standard"
  },
  "nbformat": 4,
  "nbformat_minor": 0
}