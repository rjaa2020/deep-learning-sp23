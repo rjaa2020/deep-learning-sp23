{
  "nbformat": 4,
  "nbformat_minor": 0,
  "metadata": {
    "colab": {
      "provenance": [],
      "gpuType": "T4",
      "authorship_tag": "ABX9TyM/ZfdYacGUzL45dgWUJ30p",
      "include_colab_link": true
    },
    "kernelspec": {
      "name": "python3",
      "display_name": "Python 3"
    },
    "language_info": {
      "name": "python"
    },
    "accelerator": "GPU",
    "gpuClass": "standard"
  },
  "cells": [
    {
      "cell_type": "markdown",
      "metadata": {
        "id": "view-in-github",
        "colab_type": "text"
      },
      "source": [
        "<a href=\"https://colab.research.google.com/github/s-jainr/deep-learning-sp23/blob/main/Deep_Learning_Final_Project_Sentiment_Analysis.ipynb\" target=\"_parent\"><img src=\"https://colab.research.google.com/assets/colab-badge.svg\" alt=\"Open In Colab\"/></a>"
      ]
    },
    {
      "cell_type": "code",
      "source": [
        "!pip install pytreebank\n",
        "import pytreebank\n",
        "import numpy as np\n",
        "import pandas as pd\n",
        "from sklearn.model_selection import train_test_split\n",
        "\n",
        "# Load the dataset from disk\n",
        "dataset = pytreebank.load_sst(\"/path/to/sentiment/\")\n",
        "\n",
        "# Extract the train, validation, and test data\n",
        "train_data = dataset['train'][:1000]\n",
        "# validation_data = dataset['dev']\n",
        "# test_data = dataset['test']"
      ],
      "metadata": {
        "colab": {
          "base_uri": "https://localhost:8080/"
        },
        "id": "aaKwfo_-xAFN",
        "outputId": "07945672-02a2-45ce-e92f-d3a687a1ed17"
      },
      "execution_count": 1,
      "outputs": [
        {
          "output_type": "stream",
          "name": "stdout",
          "text": [
            "Looking in indexes: https://pypi.org/simple, https://us-python.pkg.dev/colab-wheels/public/simple/\n",
            "Requirement already satisfied: pytreebank in /usr/local/lib/python3.10/dist-packages (0.2.7)\n"
          ]
        }
      ]
    },
    {
      "cell_type": "code",
      "source": [
        "# Build the vocabulary\n",
        "vocab = set()\n",
        "for sentence in train_data:\n",
        "    sentence = sentence.to_labeled_lines()[0][1]\n",
        "    words = sentence.lower().split()\n",
        "    for word in words:\n",
        "        vocab.add(word)\n",
        "\n",
        "# Create the word-to-index and index-to-word mappings\n",
        "word_to_index = {}\n",
        "index_to_word = {}\n",
        "for i, word in enumerate(vocab):\n",
        "    word_to_index[word.lower()] = i\n",
        "    index_to_word[i] = word.lower()\n",
        "\n",
        "# Convert the sentences to sequences of word indices\n",
        "train_sequences = []\n",
        "for sentence in train_data:\n",
        "    sentence = sentence.to_labeled_lines()[0][1]\n",
        "    words = sentence.lower().split()\n",
        "    sequence = [word_to_index[word.lower()] for word in words]\n",
        "    train_sequences.append(sequence)\n",
        "\n",
        "# Pad the sequences to a fixed length\n",
        "max_length = max(len(sequence) for sequence in train_sequences)\n",
        "train_sequences = np.array([sequence + [0]*(max_length-len(sequence)) for sequence in train_sequences])\n",
        "\n",
        "# Convert the labels to one-hot vectors\n",
        "train_labels = np.zeros((len(train_data), 5))\n",
        "for i, sentence in enumerate(train_data):\n",
        "    train_labels[i][sentence.label] = 1"
      ],
      "metadata": {
        "id": "lsEw4UfjoNIS"
      },
      "execution_count": 2,
      "outputs": []
    },
    {
      "cell_type": "code",
      "source": [
        "train_x = []\n",
        "for seq in train_sequences:\n",
        "  matrix = []\n",
        "  for encoding in seq:\n",
        "    seq_hot = np.zeros(len(vocab))\n",
        "    seq_hot[encoding] = 1\n",
        "    matrix.append(seq_hot)\n",
        "  train_x.append(matrix)\n",
        "\n",
        "train_x = np.array(train_x)"
      ],
      "metadata": {
        "id": "rnmBP-EwyCay"
      },
      "execution_count": 3,
      "outputs": []
    },
    {
      "cell_type": "code",
      "source": [
        "train_x, test_x, train_y, test_y = train_test_split(train_x, train_labels, test_size=0.2, random_state=47)"
      ],
      "metadata": {
        "id": "7R45yFiTUodF"
      },
      "execution_count": 4,
      "outputs": []
    },
    {
      "cell_type": "code",
      "source": [
        "from keras.models import Sequential\n",
        "from keras.layers import Dense, Conv1D, MaxPooling1D, Flatten\n",
        "from tensorflow.keras.callbacks import EarlyStopping\n",
        "\n",
        "model = Sequential()\n",
        "model.add(Conv1D(32, 3, activation='relu', input_shape=(52, 4806)))\n",
        "model.add(MaxPooling1D(2))\n",
        "model.add(Conv1D(64, 3, activation='relu'))\n",
        "model.add(MaxPooling1D(2))\n",
        "model.add(Conv1D(128, 3, activation='relu'))\n",
        "model.add(MaxPooling1D(2))\n",
        "model.add(Flatten())\n",
        "model.add(Dense(512, activation='relu'))\n",
        "model.add(Dense(5, activation='softmax'))\n",
        "\n",
        "model.compile(optimizer='adam', loss='categorical_crossentropy', metrics=['accuracy'])\n",
        "\n",
        "model.summary()"
      ],
      "metadata": {
        "colab": {
          "base_uri": "https://localhost:8080/"
        },
        "id": "iR-GB_tnKNu8",
        "outputId": "22187adf-4be6-4038-a7a7-dcc5bf6e2cd0"
      },
      "execution_count": 5,
      "outputs": [
        {
          "output_type": "stream",
          "name": "stdout",
          "text": [
            "Model: \"sequential\"\n",
            "_________________________________________________________________\n",
            " Layer (type)                Output Shape              Param #   \n",
            "=================================================================\n",
            " conv1d (Conv1D)             (None, 50, 32)            461408    \n",
            "                                                                 \n",
            " max_pooling1d (MaxPooling1D  (None, 25, 32)           0         \n",
            " )                                                               \n",
            "                                                                 \n",
            " conv1d_1 (Conv1D)           (None, 23, 64)            6208      \n",
            "                                                                 \n",
            " max_pooling1d_1 (MaxPooling  (None, 11, 64)           0         \n",
            " 1D)                                                             \n",
            "                                                                 \n",
            " conv1d_2 (Conv1D)           (None, 9, 128)            24704     \n",
            "                                                                 \n",
            " max_pooling1d_2 (MaxPooling  (None, 4, 128)           0         \n",
            " 1D)                                                             \n",
            "                                                                 \n",
            " flatten (Flatten)           (None, 512)               0         \n",
            "                                                                 \n",
            " dense (Dense)               (None, 512)               262656    \n",
            "                                                                 \n",
            " dense_1 (Dense)             (None, 5)                 2565      \n",
            "                                                                 \n",
            "=================================================================\n",
            "Total params: 757,541\n",
            "Trainable params: 757,541\n",
            "Non-trainable params: 0\n",
            "_________________________________________________________________\n"
          ]
        }
      ]
    },
    {
      "cell_type": "code",
      "source": [
        "es = EarlyStopping(monitor='val_accuracy', patience=10, restore_best_weights=True)\n",
        "\n",
        "network_history = model.fit(train_x, train_y, validation_data=(test_x, test_y), epochs=1000, batch_size=32, callbacks = [es])"
      ],
      "metadata": {
        "colab": {
          "base_uri": "https://localhost:8080/"
        },
        "id": "zAevq2BHR3Jr",
        "outputId": "1a3f0b0e-6f0a-4369-8524-a0b715ddb8fd"
      },
      "execution_count": 8,
      "outputs": [
        {
          "output_type": "stream",
          "name": "stdout",
          "text": [
            "Epoch 1/1000\n",
            "25/25 [==============================] - 1s 52ms/step - loss: 1.1347 - accuracy: 0.4913 - val_loss: 1.2310 - val_accuracy: 0.4750\n",
            "Epoch 2/1000\n",
            "25/25 [==============================] - 1s 30ms/step - loss: 1.0807 - accuracy: 0.4913 - val_loss: 1.2210 - val_accuracy: 0.4750\n",
            "Epoch 3/1000\n",
            "25/25 [==============================] - 1s 41ms/step - loss: 0.9196 - accuracy: 0.5025 - val_loss: 1.2726 - val_accuracy: 0.4550\n",
            "Epoch 4/1000\n",
            "25/25 [==============================] - 1s 47ms/step - loss: 0.5449 - accuracy: 0.7912 - val_loss: 2.2213 - val_accuracy: 0.3000\n",
            "Epoch 5/1000\n",
            "25/25 [==============================] - 1s 43ms/step - loss: 0.2766 - accuracy: 0.8925 - val_loss: 3.2573 - val_accuracy: 0.3300\n",
            "Epoch 6/1000\n",
            "25/25 [==============================] - 1s 46ms/step - loss: 0.1418 - accuracy: 0.9538 - val_loss: 3.5782 - val_accuracy: 0.3500\n"
          ]
        }
      ]
    },
    {
      "cell_type": "code",
      "source": [
        "correct, incorrect, accuracy = 0, 0, 1\n",
        "\n",
        "for i in range(len(test_x)):\n",
        "  sequence = test_x[i]\n",
        "  true_label = test_y[i]\n",
        "\n",
        "  prediction = model.predict(np.reshape(sequence, newshape=(1, sequence.shape[0], sequence.shape[1])), verbose=0)\n",
        "\n",
        "  if np.argmax(prediction) == np.argmax(true_label):\n",
        "    correct += 1\n",
        "  else:\n",
        "    incorrect += 1\n",
        "  \n",
        "  accuracy = correct / (correct + incorrect)\n",
        "\n",
        "print(f\"accuracy: {accuracy:.2f}\")\n",
        "  "
      ],
      "metadata": {
        "colab": {
          "base_uri": "https://localhost:8080/"
        },
        "id": "kBN5fZHXXCBY",
        "outputId": "b0f9fc1f-8ded-465f-a37d-ee25d4571554"
      },
      "execution_count": 37,
      "outputs": [
        {
          "output_type": "stream",
          "name": "stdout",
          "text": [
            "accuracy: 0.47\n"
          ]
        }
      ]
    }
  ]
}