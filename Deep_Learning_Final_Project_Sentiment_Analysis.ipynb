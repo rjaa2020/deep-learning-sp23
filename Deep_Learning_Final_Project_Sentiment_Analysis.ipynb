{
  "nbformat": 4,
  "nbformat_minor": 0,
  "metadata": {
    "colab": {
      "provenance": [],
      "gpuType": "T4",
      "authorship_tag": "ABX9TyNmtZDwxvWavfYWb4w00HT5",
      "include_colab_link": true
    },
    "kernelspec": {
      "name": "python3",
      "display_name": "Python 3"
    },
    "language_info": {
      "name": "python"
    },
    "accelerator": "GPU",
    "gpuClass": "standard"
  },
  "cells": [
    {
      "cell_type": "markdown",
      "metadata": {
        "id": "view-in-github",
        "colab_type": "text"
      },
      "source": [
        "<a href=\"https://colab.research.google.com/github/s-jainr/deep-learning-sp23/blob/main/Deep_Learning_Final_Project_Sentiment_Analysis.ipynb\" target=\"_parent\"><img src=\"https://colab.research.google.com/assets/colab-badge.svg\" alt=\"Open In Colab\"/></a>"
      ]
    },
    {
      "cell_type": "code",
      "source": [
        "!pip install pytreebank\n",
        "import pytreebank\n",
        "import numpy as np\n",
        "import pandas as pd\n",
        "from sklearn.model_selection import train_test_split\n",
        "\n",
        "# Load the dataset from disk\n",
        "dataset = pytreebank.load_sst(\"/path/to/sentiment/\")"
      ],
      "metadata": {
        "colab": {
          "base_uri": "https://localhost:8080/"
        },
        "id": "aaKwfo_-xAFN",
        "outputId": "bd619321-9628-4774-a877-ba86faeacb80"
      },
      "execution_count": 23,
      "outputs": [
        {
          "output_type": "stream",
          "name": "stdout",
          "text": [
            "Looking in indexes: https://pypi.org/simple, https://us-python.pkg.dev/colab-wheels/public/simple/\n",
            "Requirement already satisfied: pytreebank in /usr/local/lib/python3.10/dist-packages (0.2.7)\n"
          ]
        }
      ]
    },
    {
      "cell_type": "code",
      "source": [
        "# Extract the train, validation, and test data\n",
        "train_data = dataset['train'][:1000]\n",
        "\n",
        "# Build the vocabulary\n",
        "vocab = set()\n",
        "for sentence in train_data:\n",
        "    sentence = sentence.to_labeled_lines()[0][1]\n",
        "    words = sentence.lower().split()\n",
        "    for word in words:\n",
        "        vocab.add(word)\n",
        "\n",
        "# Create the word-to-index and index-to-word mappings\n",
        "word_to_index = {}\n",
        "index_to_word = {}\n",
        "for i, word in enumerate(vocab):\n",
        "    word_to_index[word.lower()] = i\n",
        "    index_to_word[i] = word.lower()\n",
        "\n",
        "# Convert the sentences to sequences of word indices\n",
        "train_sequences = []\n",
        "for sentence in train_data:\n",
        "    sentence = sentence.to_labeled_lines()[0][1]\n",
        "    words = sentence.lower().split()\n",
        "    sequence = [word_to_index[word.lower()] for word in words]\n",
        "    train_sequences.append(sequence)\n",
        "\n",
        "# Pad the sequences to a fixed length\n",
        "max_length = max(len(sequence) for sequence in train_sequences)\n",
        "train_sequences = np.array([sequence + [0]*(max_length-len(sequence)) for sequence in train_sequences])\n",
        "\n",
        "# Convert the labels to one-hot vectors\n",
        "train_labels = np.zeros((len(train_data), 5))\n",
        "for i, sentence in enumerate(train_data):\n",
        "    train_labels[i][sentence.label] = 1"
      ],
      "metadata": {
        "id": "lsEw4UfjoNIS"
      },
      "execution_count": 24,
      "outputs": []
    },
    {
      "cell_type": "code",
      "source": [
        "sums = np.sum(train_labels, axis=0)\n",
        "\n",
        "for i in range(len(sums)):\n",
        "  print(f\"sentences in class {i}: {sums[i]:.0f}\")"
      ],
      "metadata": {
        "colab": {
          "base_uri": "https://localhost:8080/"
        },
        "id": "6Bv3nRy0egwk",
        "outputId": "4a223226-9920-4565-bf95-0bfadd06280a"
      },
      "execution_count": 25,
      "outputs": [
        {
          "output_type": "stream",
          "name": "stdout",
          "text": [
            "sentences in class 0: 8\n",
            "sentences in class 1: 42\n",
            "sentences in class 2: 146\n",
            "sentences in class 3: 488\n",
            "sentences in class 4: 316\n"
          ]
        }
      ]
    },
    {
      "cell_type": "code",
      "source": [
        "train_x = []\n",
        "for seq in train_sequences:\n",
        "  matrix = []\n",
        "  for encoding in seq:\n",
        "    seq_hot = np.zeros(len(vocab))\n",
        "    seq_hot[encoding] = 1\n",
        "    matrix.append(seq_hot)\n",
        "  train_x.append(matrix)\n",
        "\n",
        "train_x = np.array(train_x)"
      ],
      "metadata": {
        "id": "rnmBP-EwyCay"
      },
      "execution_count": 26,
      "outputs": []
    },
    {
      "cell_type": "code",
      "source": [
        "train_x, test_x, train_y, test_y = train_test_split(train_x, train_labels, test_size=0.2, random_state=47)"
      ],
      "metadata": {
        "id": "7R45yFiTUodF"
      },
      "execution_count": 27,
      "outputs": []
    },
    {
      "cell_type": "code",
      "source": [
        "from keras.models import Sequential\n",
        "from keras.layers import Dense, Conv1D, MaxPooling1D, Flatten\n",
        "from tensorflow.keras.callbacks import EarlyStopping\n",
        "\n",
        "model = Sequential()\n",
        "model.add(Conv1D(32, 3, activation='relu', input_shape=(train_x.shape[1], train_x.shape[2])))\n",
        "model.add(MaxPooling1D(2))\n",
        "model.add(Conv1D(64, 3, activation='relu'))\n",
        "model.add(MaxPooling1D(2))\n",
        "model.add(Conv1D(128, 3, activation='relu'))\n",
        "model.add(MaxPooling1D(2))\n",
        "model.add(Flatten())\n",
        "model.add(Dense(512, activation='relu'))\n",
        "model.add(Dense(5, activation='softmax'))\n",
        "\n",
        "model.compile(optimizer='adam', loss='categorical_crossentropy', metrics=['accuracy'])\n",
        "\n",
        "model.summary()"
      ],
      "metadata": {
        "colab": {
          "base_uri": "https://localhost:8080/"
        },
        "id": "iR-GB_tnKNu8",
        "outputId": "b4c88558-2971-4141-b0d1-ba4942a0128e"
      },
      "execution_count": 28,
      "outputs": [
        {
          "output_type": "stream",
          "name": "stdout",
          "text": [
            "Model: \"sequential_4\"\n",
            "_________________________________________________________________\n",
            " Layer (type)                Output Shape              Param #   \n",
            "=================================================================\n",
            " conv1d_12 (Conv1D)          (None, 50, 32)            461408    \n",
            "                                                                 \n",
            " max_pooling1d_12 (MaxPoolin  (None, 25, 32)           0         \n",
            " g1D)                                                            \n",
            "                                                                 \n",
            " conv1d_13 (Conv1D)          (None, 23, 64)            6208      \n",
            "                                                                 \n",
            " max_pooling1d_13 (MaxPoolin  (None, 11, 64)           0         \n",
            " g1D)                                                            \n",
            "                                                                 \n",
            " conv1d_14 (Conv1D)          (None, 9, 128)            24704     \n",
            "                                                                 \n",
            " max_pooling1d_14 (MaxPoolin  (None, 4, 128)           0         \n",
            " g1D)                                                            \n",
            "                                                                 \n",
            " flatten_4 (Flatten)         (None, 512)               0         \n",
            "                                                                 \n",
            " dense_8 (Dense)             (None, 512)               262656    \n",
            "                                                                 \n",
            " dense_9 (Dense)             (None, 5)                 2565      \n",
            "                                                                 \n",
            "=================================================================\n",
            "Total params: 757,541\n",
            "Trainable params: 757,541\n",
            "Non-trainable params: 0\n",
            "_________________________________________________________________\n"
          ]
        }
      ]
    },
    {
      "cell_type": "code",
      "source": [
        "es = EarlyStopping(monitor='val_accuracy', patience=10, restore_best_weights=True)\n",
        "\n",
        "network_history = model.fit(train_x, train_y, validation_data=(test_x, test_y), epochs=1000, batch_size=32, callbacks = [es])"
      ],
      "metadata": {
        "colab": {
          "base_uri": "https://localhost:8080/"
        },
        "id": "zAevq2BHR3Jr",
        "outputId": "fb08c2a5-80a8-4b9f-a3df-54ed77098497"
      },
      "execution_count": 29,
      "outputs": [
        {
          "output_type": "stream",
          "name": "stdout",
          "text": [
            "Epoch 1/1000\n",
            "25/25 [==============================] - 3s 47ms/step - loss: 1.2839 - accuracy: 0.4700 - val_loss: 1.2218 - val_accuracy: 0.4750\n",
            "Epoch 2/1000\n",
            "25/25 [==============================] - 1s 38ms/step - loss: 1.1299 - accuracy: 0.4913 - val_loss: 1.2288 - val_accuracy: 0.4750\n",
            "Epoch 3/1000\n",
            "25/25 [==============================] - 1s 44ms/step - loss: 1.0310 - accuracy: 0.4975 - val_loss: 1.2177 - val_accuracy: 0.5100\n",
            "Epoch 4/1000\n",
            "25/25 [==============================] - 1s 42ms/step - loss: 0.6902 - accuracy: 0.7437 - val_loss: 1.5012 - val_accuracy: 0.3900\n",
            "Epoch 5/1000\n",
            "25/25 [==============================] - 1s 40ms/step - loss: 0.3831 - accuracy: 0.8288 - val_loss: 2.2051 - val_accuracy: 0.3450\n",
            "Epoch 6/1000\n",
            "25/25 [==============================] - 1s 39ms/step - loss: 0.2118 - accuracy: 0.9375 - val_loss: 3.0491 - val_accuracy: 0.3650\n",
            "Epoch 7/1000\n",
            "25/25 [==============================] - 1s 48ms/step - loss: 0.1463 - accuracy: 0.9488 - val_loss: 3.9039 - val_accuracy: 0.3250\n",
            "Epoch 8/1000\n",
            "25/25 [==============================] - 2s 73ms/step - loss: 0.1124 - accuracy: 0.9525 - val_loss: 3.5263 - val_accuracy: 0.4250\n",
            "Epoch 9/1000\n",
            "25/25 [==============================] - 1s 45ms/step - loss: 0.0855 - accuracy: 0.9613 - val_loss: 3.5264 - val_accuracy: 0.3650\n",
            "Epoch 10/1000\n",
            "25/25 [==============================] - 1s 44ms/step - loss: 0.0553 - accuracy: 0.9850 - val_loss: 3.5912 - val_accuracy: 0.3500\n",
            "Epoch 11/1000\n",
            "25/25 [==============================] - 1s 49ms/step - loss: 0.0256 - accuracy: 0.9937 - val_loss: 4.3988 - val_accuracy: 0.3950\n",
            "Epoch 12/1000\n",
            "25/25 [==============================] - 1s 38ms/step - loss: 0.0314 - accuracy: 0.9900 - val_loss: 3.9230 - val_accuracy: 0.3350\n",
            "Epoch 13/1000\n",
            "25/25 [==============================] - 1s 45ms/step - loss: 0.0371 - accuracy: 0.9887 - val_loss: 4.1529 - val_accuracy: 0.3050\n"
          ]
        }
      ]
    },
    {
      "cell_type": "code",
      "source": [
        "import time\n",
        "\n",
        "def progress_bar(current, total, start_time, bar_length=20):\n",
        "    fraction = current / total\n",
        "    arrow = int(fraction * bar_length - 1) * '-' + '>'\n",
        "    padding = int(bar_length - len(arrow)) * ' '\n",
        "    ending = '\\n' if current == total else '\\r'\n",
        "    time_diff = round(time.time() - start_time)\n",
        "\n",
        "    print(f'{current} / {total}\\t\\t'\n",
        "          f'Progress: [{arrow}{padding}] {int(fraction * 100):02d}%\\t\\t'\n",
        "          f'Elapsed Time: \\t{(time_diff // 60):02d}:{time_diff % 60:02d}', end=ending)"
      ],
      "metadata": {
        "id": "w6r43LV4bBPv"
      },
      "execution_count": 30,
      "outputs": []
    },
    {
      "cell_type": "code",
      "source": [
        "model.evaluate(test_x, test_y)"
      ],
      "metadata": {
        "colab": {
          "base_uri": "https://localhost:8080/"
        },
        "id": "p3uSwJgPb4Dy",
        "outputId": "8c1ea2f4-34e2-4157-a42b-eca6400cbb03"
      },
      "execution_count": 31,
      "outputs": [
        {
          "output_type": "stream",
          "name": "stdout",
          "text": [
            "7/7 [==============================] - 0s 27ms/step - loss: 1.2177 - accuracy: 0.5100\n"
          ]
        },
        {
          "output_type": "execute_result",
          "data": {
            "text/plain": [
              "[1.2177397012710571, 0.5099999904632568]"
            ]
          },
          "metadata": {},
          "execution_count": 31
        }
      ]
    },
    {
      "cell_type": "code",
      "source": [
        "from sklearn.metrics import confusion_matrix\n",
        "import seaborn as sns\n",
        "import matplotlib.pyplot as plt\n",
        "\n",
        "# calculate the confusion matrix\n",
        "preds = model.predict(test_x)\n",
        "conf = confusion_matrix(np.argmax(test_y, axis=1), np.argmax(preds, axis=1))\n",
        "\n",
        "# plot the confusion matrix as a heatmap\n",
        "plt.figure(figsize=(7,6))\n",
        "sns.heatmap(conf, annot=True, fmt='d')\n",
        "plt.xlabel('Predicted label')\n",
        "plt.ylabel('True label')\n",
        "plt.show()"
      ],
      "metadata": {
        "colab": {
          "base_uri": "https://localhost:8080/",
          "height": 564
        },
        "id": "VGWO6HcTcDrd",
        "outputId": "9ade0d9f-4a67-4a26-d8bd-c97c1f62b310"
      },
      "execution_count": 32,
      "outputs": [
        {
          "output_type": "stream",
          "name": "stdout",
          "text": [
            "7/7 [==============================] - 0s 28ms/step\n"
          ]
        },
        {
          "output_type": "display_data",
          "data": {
            "text/plain": [
              "<Figure size 700x600 with 2 Axes>"
            ],
            "image/png": "[encoded data removed]"
          },
          "metadata": {}
        }
      ]
    }
  ]
}